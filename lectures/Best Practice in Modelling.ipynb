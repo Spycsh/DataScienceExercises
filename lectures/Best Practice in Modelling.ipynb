{
 "cells": [
  {
   "cell_type": "markdown",
   "metadata": {},
   "source": [
    "# ID2214: Programming for Data Science\n",
    "## Best Practices in Modelling\n",
    "### Amir Hossein A. Rahnama"
   ]
  },
  {
   "cell_type": "code",
   "execution_count": 1,
   "metadata": {
    "collapsed": true
   },
   "outputs": [],
   "source": [
    "import numpy as np\n",
    "import pandas as pd\n",
    "from sklearn.feature_extraction.text import TfidfVectorizer, CountVectorizer\n",
    "from sklearn.model_selection import GridSearchCV, RandomizedSearchCV"
   ]
  },
  {
   "cell_type": "markdown",
   "metadata": {},
   "source": [
    "Always remember to set the seed for your experiments so that it is reproducible:"
   ]
  },
  {
   "cell_type": "code",
   "execution_count": 3,
   "metadata": {
    "collapsed": true
   },
   "outputs": [],
   "source": [
    "# need to change the seed number to change the random setting to make sure\n",
    "# that your results do not coincidently work fine\n",
    "seed_number = 10\n",
    "np.random.seed(seed_number)"
   ]
  },
  {
   "cell_type": "markdown",
   "metadata": {},
   "source": [
    "Let us reload and merge data as we did in the last notebook:"
   ]
  },
  {
   "cell_type": "code",
   "execution_count": 3,
   "metadata": {},
   "outputs": [
    {
     "name": "stderr",
     "output_type": "stream",
     "text": [
      "/home/amir/anaconda3/envs/dl/lib/python3.6/site-packages/IPython/core/interactiveshell.py:3020: DtypeWarning: Columns (3) have mixed types.Specify dtype option on import or set low_memory=False.\n",
      "  interactivity=interactivity, compiler=compiler, result=result)\n"
     ]
    },
    {
     "data": {
      "text/plain": [
       "(85852, 4)"
      ]
     },
     "execution_count": 3,
     "metadata": {},
     "output_type": "execute_result"
    }
   ],
   "source": [
    "imdb_ratings=pd.read_csv('./data/IMDb ratings.csv',usecols=['weighted_average_vote'])\n",
    "imdb_titles=pd.read_csv('./data/IMDb movies.csv', usecols=['title','year','genre'])\n",
    "ratings = pd.DataFrame({'Title':imdb_titles.title,\n",
    "                    'Release Year':imdb_titles.year,\n",
    "                    'Rating': imdb_ratings.weighted_average_vote,\n",
    "                    'Genre':imdb_titles.genre})\n",
    "ratings.drop_duplicates(subset=['Title','Release Year','Rating'], inplace=True)\n",
    "ratings.shape"
   ]
  },
  {
   "cell_type": "code",
   "execution_count": 4,
   "metadata": {
    "collapsed": true
   },
   "outputs": [],
   "source": [
    "netflix_overall = pd.read_csv('./data/netflix_titles.csv')"
   ]
  },
  {
   "cell_type": "code",
   "execution_count": 5,
   "metadata": {
    "collapsed": true
   },
   "outputs": [],
   "source": [
    "ratings.dropna()\n",
    "joint_data=ratings.merge(netflix_overall, left_on='Title', right_on='title', how='inner')\n",
    "joint_data=joint_data.sort_values(by='Rating', ascending=False)"
   ]
  },
  {
   "cell_type": "markdown",
   "metadata": {},
   "source": [
    "### Simple recommendation model"
   ]
  },
  {
   "cell_type": "code",
   "execution_count": 6,
   "metadata": {},
   "outputs": [
    {
     "data": {
      "text/plain": [
       "(6234, 16151)"
      ]
     },
     "execution_count": 6,
     "metadata": {},
     "output_type": "execute_result"
    }
   ],
   "source": [
    "#removing stopwords\n",
    "tfidf = TfidfVectorizer(stop_words='english')\n",
    "\n",
    "#Replace NaN with an empty string\n",
    "netflix_overall['description'] = netflix_overall['description'].fillna('')\n",
    "\n",
    "#Construct the required TF-IDF matrix by fitting and transforming the data\n",
    "tfidf_matrix_description = tfidf.fit_transform(netflix_overall['description'])\n",
    "\n",
    "#Output the shape of tfidf_matrix\n",
    "tfidf_matrix_description.shape"
   ]
  },
  {
   "cell_type": "code",
   "execution_count": 7,
   "metadata": {
    "collapsed": true
   },
   "outputs": [],
   "source": [
    "# Import linear_kernel\n",
    "from sklearn.metrics.pairwise import linear_kernel\n",
    "\n",
    "# Compute the cosine similarity matrix\n",
    "cosine_sim = linear_kernel(tfidf_matrix_description, tfidf_matrix_description)"
   ]
  },
  {
   "cell_type": "code",
   "execution_count": 8,
   "metadata": {
    "collapsed": true
   },
   "outputs": [],
   "source": [
    "indices = pd.Series(netflix_overall.index, index=netflix_overall['title']).drop_duplicates()"
   ]
  },
  {
   "cell_type": "code",
   "execution_count": 9,
   "metadata": {
    "collapsed": true
   },
   "outputs": [],
   "source": [
    "def get_recommendations(title, cosine_sim=cosine_sim):\n",
    "    idx = indices[title]\n",
    "\n",
    "    # Get the pairwsie similarity scores of all movies with that movie\n",
    "    sim_scores = list(enumerate(cosine_sim[idx]))\n",
    "\n",
    "    # Sort the movies based on the similarity scores\n",
    "    sim_scores = sorted(sim_scores, key=lambda x: x[1], reverse=True)\n",
    "\n",
    "    # Get the scores of the 10 most similar movies\n",
    "    sim_scores = sim_scores[1:11]\n",
    "\n",
    "    # Get the movie indices\n",
    "    movie_indices = [i[0] for i in sim_scores]\n",
    "\n",
    "    # Return the top 10 most similar movies\n",
    "    return netflix_overall['title'].iloc[movie_indices]"
   ]
  },
  {
   "cell_type": "code",
   "execution_count": 10,
   "metadata": {},
   "outputs": [
    {
     "data": {
      "text/plain": [
       "296                     Our Godfather\n",
       "4491                              Don\n",
       "2015                         The Fear\n",
       "4852    Jonathan Strange & Mr Norrell\n",
       "1231                       The Prison\n",
       "3737                Power Rangers Zeo\n",
       "5986                       The Tudors\n",
       "1753      Once Upon a Time in Mumbaai\n",
       "5494     The Legend of Michael Mishra\n",
       "1142                  Shelby American\n",
       "Name: title, dtype: object"
      ]
     },
     "execution_count": 10,
     "metadata": {},
     "output_type": "execute_result"
    }
   ],
   "source": [
    "get_recommendations('Peaky Blinders')"
   ]
  },
  {
   "cell_type": "markdown",
   "metadata": {},
   "source": [
    "### Rate prediction"
   ]
  },
  {
   "cell_type": "code",
   "execution_count": 11,
   "metadata": {},
   "outputs": [
    {
     "data": {
      "text/plain": [
       "(2332, 23)"
      ]
     },
     "execution_count": 11,
     "metadata": {},
     "output_type": "execute_result"
    }
   ],
   "source": [
    "tfidf_genre = CountVectorizer(stop_words='english')\n",
    "\n",
    "#Replace NaN with an empty string\n",
    "joint_data['Genre'] = joint_data['Genre'].fillna('')\n",
    "\n",
    "#Construct the required TF-IDF matrix by fitting and transforming the data\n",
    "tfidf_genre_matrix = tfidf_genre.fit_transform(joint_data['Genre'])\n",
    "\n",
    "#Output the shape of tfidf_matrix\n",
    "tfidf_genre_matrix.shape"
   ]
  },
  {
   "cell_type": "code",
   "execution_count": 12,
   "metadata": {
    "collapsed": true
   },
   "outputs": [],
   "source": [
    "genre_dictionary = ['' for i in range(len(list(tfidf_genre.vocabulary_.keys())))]\n",
    "\n",
    "for gen in tfidf_genre.vocabulary_:\n",
    "    genre_dictionary[tfidf_genre.vocabulary_[gen]] = gen"
   ]
  },
  {
   "cell_type": "code",
   "execution_count": 13,
   "metadata": {},
   "outputs": [
    {
     "data": {
      "text/plain": [
       "(2332, 2263)"
      ]
     },
     "execution_count": 13,
     "metadata": {},
     "output_type": "execute_result"
    }
   ],
   "source": [
    "tfidf_director = CountVectorizer(stop_words='english')\n",
    "\n",
    "#Replace NaN with an empty string\n",
    "joint_data['director'] = joint_data['director'].replace(np.nan, '', regex=True)\n",
    "#Construct the required TF-IDF matrix by fitting and transforming the data\n",
    "tfidf_director_matrix = tfidf_director.fit_transform(joint_data['director'])\n",
    "\n",
    "#Output the shape of tfidf_matrix\n",
    "tfidf_director_matrix.shape"
   ]
  },
  {
   "cell_type": "code",
   "execution_count": 14,
   "metadata": {
    "collapsed": true
   },
   "outputs": [],
   "source": [
    "director_dictionary = ['' for i in range(len(list(tfidf_director.vocabulary_.keys())))]\n",
    "\n",
    "for di in tfidf_director.vocabulary_:\n",
    "    director_dictionary[tfidf_director.vocabulary_[di]] = di"
   ]
  },
  {
   "cell_type": "code",
   "execution_count": 15,
   "metadata": {},
   "outputs": [
    {
     "data": {
      "text/plain": [
       "(2332, 80)"
      ]
     },
     "execution_count": 15,
     "metadata": {},
     "output_type": "execute_result"
    }
   ],
   "source": [
    "tfidf_country = CountVectorizer(stop_words='english')\n",
    "\n",
    "#Replace NaN with an empty string\n",
    "joint_data['country'] = joint_data['country'].replace(np.nan, '', regex=True)\n",
    "#Construct the required TF-IDF matrix by fitting and transforming the data\n",
    "tfidf_country_matrix = tfidf_country.fit_transform(joint_data['country'])\n",
    "\n",
    "#Output the shape of tfidf_matrix\n",
    "tfidf_country_matrix.shape"
   ]
  },
  {
   "cell_type": "code",
   "execution_count": 16,
   "metadata": {
    "collapsed": true
   },
   "outputs": [],
   "source": [
    "country_dictionary = ['' for i in range(len(list(tfidf_country.vocabulary_.keys())))]\n",
    "\n",
    "for co in tfidf_country.vocabulary_:\n",
    "    country_dictionary[tfidf_country.vocabulary_[co]] = co"
   ]
  },
  {
   "cell_type": "code",
   "execution_count": 17,
   "metadata": {
    "collapsed": true
   },
   "outputs": [],
   "source": [
    "types_data = np.argmax(pd.get_dummies(joint_data['type'], prefix='type').values, axis=1).reshape(-1, 1)"
   ]
  },
  {
   "cell_type": "code",
   "execution_count": 18,
   "metadata": {
    "collapsed": true
   },
   "outputs": [],
   "source": [
    "X = np.hstack([tfidf_genre_matrix.toarray(), tfidf_country_matrix.toarray(), tfidf_director_matrix.toarray(), types_data])\n",
    "y = np.around(joint_data['Rating'].values).astype(int)"
   ]
  },
  {
   "cell_type": "code",
   "execution_count": 19,
   "metadata": {
    "collapsed": true
   },
   "outputs": [],
   "source": [
    "column_names = np.hstack((genre_dictionary, country_dictionary, director_dictionary, ['type']))"
   ]
  },
  {
   "cell_type": "code",
   "execution_count": 20,
   "metadata": {
    "collapsed": true
   },
   "outputs": [],
   "source": [
    "from sklearn.model_selection import train_test_split\n",
    "from sklearn.linear_model import LinearRegression, Ridge\n",
    "from sklearn.metrics import mean_squared_error, mean_absolute_error\n",
    "\n",
    "X_train, X_test, y_train, y_test = train_test_split(X, y, test_size=0.33, random_state=42)"
   ]
  },
  {
   "cell_type": "code",
   "execution_count": 42,
   "metadata": {
    "collapsed": true
   },
   "outputs": [],
   "source": [
    "reg = Ridge(random_state=seed_number).fit(X_train, y_train)\n",
    "y_pred = reg.predict(X_test)"
   ]
  },
  {
   "cell_type": "code",
   "execution_count": 43,
   "metadata": {},
   "outputs": [
    {
     "name": "stdout",
     "output_type": "stream",
     "text": [
      "0.6672161022605263 1.596111521252767 0.996187680520826\n"
     ]
    }
   ],
   "source": [
    "print(reg.score(X_train, y_train), mean_squared_error(y_test, y_pred), mean_absolute_error(y_test, y_pred))"
   ]
  },
  {
   "cell_type": "code",
   "execution_count": 44,
   "metadata": {
    "collapsed": true
   },
   "outputs": [],
   "source": [
    "largest_weights = np.abs(reg.coef_).argsort()[-10:][::-1]"
   ]
  },
  {
   "cell_type": "code",
   "execution_count": 45,
   "metadata": {},
   "outputs": [
    {
     "data": {
      "image/png": "[encoded data removed]",
      "text/plain": [
       "<Figure size 700x500 with 1 Axes>"
      ]
     },
     "metadata": {
      "needs_background": "light"
     },
     "output_type": "display_data"
    }
   ],
   "source": [
    "import matplotlib.pyplot as plt\n",
    "fig, ax = plt.subplots(figsize=(7, 5), dpi=100)\n",
    "\n",
    "# Example data\n",
    "people = ('Tom', 'Dick', 'Harry', 'Slim', 'Jim')\n",
    "y_pos = np.arange(len(largest_weights))\n",
    "\n",
    "ax.barh(y_pos, reg.coef_[largest_weights], align='center')\n",
    "ax.set_yticks(y_pos)\n",
    "ax.set_yticklabels(column_names[largest_weights])\n",
    "ax.invert_yaxis()  \n",
    "ax.set_xlabel('Importance')\n",
    "ax.set_title('Important Features in Ridge Regression Model')\n",
    "\n",
    "plt.show()"
   ]
  },
  {
   "cell_type": "code",
   "execution_count": 27,
   "metadata": {
    "collapsed": true
   },
   "outputs": [],
   "source": [
    "from sklearn import tree\n",
    "\n",
    "from sklearn.tree import DecisionTreeRegressor"
   ]
  },
  {
   "cell_type": "code",
   "execution_count": 46,
   "metadata": {
    "collapsed": true
   },
   "outputs": [],
   "source": [
    "d_tree = DecisionTreeRegressor(max_depth=4, random_state= seed_number).fit(X_train, y_train)\n",
    "y_pred = d_tree.predict(X_test)"
   ]
  },
  {
   "cell_type": "code",
   "execution_count": 47,
   "metadata": {},
   "outputs": [
    {
     "name": "stdout",
     "output_type": "stream",
     "text": [
      "0.6672161022605263 1.5647856820292578 0.9900269375529772\n"
     ]
    }
   ],
   "source": [
    "print(reg.score(X_train, y_train), mean_squared_error(y_test, y_pred), mean_absolute_error(y_test, y_pred))"
   ]
  },
  {
   "cell_type": "code",
   "execution_count": 48,
   "metadata": {},
   "outputs": [
    {
     "data": {
      "image/svg+xml": [
       "<?xml version=\"1.0\" encoding=\"UTF-8\" standalone=\"no\"?>\n",
       "<!DOCTYPE svg PUBLIC \"-//W3C//DTD SVG 1.1//EN\"\n",
       " \"http://www.w3.org/Graphics/SVG/1.1/DTD/svg11.dtd\">\n",
       "<!-- Generated by graphviz version 2.40.1 (20161225.0304)\n",
       " -->\n",
       "<!-- Title: Tree Pages: 1 -->\n",
       "<svg width=\"1601pt\" height=\"477pt\"\n",
       " viewBox=\"0.00 0.00 1600.50 477.00\" xmlns=\"http://www.w3.org/2000/svg\" xmlns:xlink=\"http://www.w3.org/1999/xlink\">\n",
       "<g id=\"graph0\" class=\"graph\" transform=\"scale(1 1) rotate(0) translate(4 473)\">\n",
       "<title>Tree</title>\n",
       "<polygon fill=\"#ffffff\" stroke=\"transparent\" points=\"-4,4 -4,-473 1596.5,-473 1596.5,4 -4,4\"/>\n",
       "<!-- 0 -->\n",
       "<g id=\"node1\" class=\"node\">\n",
       "<title>0</title>\n",
       "<path fill=\"#e58139\" fill-opacity=\"0.596078\" stroke=\"#000000\" d=\"M957.5,-469C957.5,-469 868.5,-469 868.5,-469 862.5,-469 856.5,-463 856.5,-457 856.5,-457 856.5,-413 856.5,-413 856.5,-407 862.5,-401 868.5,-401 868.5,-401 957.5,-401 957.5,-401 963.5,-401 969.5,-407 969.5,-413 969.5,-413 969.5,-457 969.5,-457 969.5,-463 963.5,-469 957.5,-469\"/>\n",
       "<text text-anchor=\"middle\" x=\"913\" y=\"-453.8\" font-family=\"Helvetica,sans-Serif\" font-size=\"14.00\" fill=\"#000000\">drama &lt;= 0.5</text>\n",
       "<text text-anchor=\"middle\" x=\"913\" y=\"-438.8\" font-family=\"Helvetica,sans-Serif\" font-size=\"14.00\" fill=\"#000000\">mse = 1.763</text>\n",
       "<text text-anchor=\"middle\" x=\"913\" y=\"-423.8\" font-family=\"Helvetica,sans-Serif\" font-size=\"14.00\" fill=\"#000000\">samples = 1562</text>\n",
       "<text text-anchor=\"middle\" x=\"913\" y=\"-408.8\" font-family=\"Helvetica,sans-Serif\" font-size=\"14.00\" fill=\"#000000\">value = 5.867</text>\n",
       "</g>\n",
       "<!-- 1 -->\n",
       "<g id=\"node2\" class=\"node\">\n",
       "<title>1</title>\n",
       "<path fill=\"#e58139\" fill-opacity=\"0.529412\" stroke=\"#000000\" d=\"M723,-365C723,-365 641,-365 641,-365 635,-365 629,-359 629,-353 629,-353 629,-309 629,-309 629,-303 635,-297 641,-297 641,-297 723,-297 723,-297 729,-297 735,-303 735,-309 735,-309 735,-353 735,-353 735,-359 729,-365 723,-365\"/>\n",
       "<text text-anchor=\"middle\" x=\"682\" y=\"-349.8\" font-family=\"Helvetica,sans-Serif\" font-size=\"14.00\" fill=\"#000000\">crime &lt;= 0.5</text>\n",
       "<text text-anchor=\"middle\" x=\"682\" y=\"-334.8\" font-family=\"Helvetica,sans-Serif\" font-size=\"14.00\" fill=\"#000000\">mse = 1.69</text>\n",
       "<text text-anchor=\"middle\" x=\"682\" y=\"-319.8\" font-family=\"Helvetica,sans-Serif\" font-size=\"14.00\" fill=\"#000000\">samples = 635</text>\n",
       "<text text-anchor=\"middle\" x=\"682\" y=\"-304.8\" font-family=\"Helvetica,sans-Serif\" font-size=\"14.00\" fill=\"#000000\">value = 5.449</text>\n",
       "</g>\n",
       "<!-- 0&#45;&gt;1 -->\n",
       "<g id=\"edge1\" class=\"edge\">\n",
       "<title>0&#45;&gt;1</title>\n",
       "<path fill=\"none\" stroke=\"#000000\" d=\"M856.491,-409.5587C822.5275,-394.2678 779.2613,-374.7886 744.3095,-359.0528\"/>\n",
       "<polygon fill=\"#000000\" stroke=\"#000000\" points=\"745.7066,-355.8434 735.1512,-354.9296 742.8328,-362.2264 745.7066,-355.8434\"/>\n",
       "<text text-anchor=\"middle\" x=\"744.0134\" y=\"-374.6061\" font-family=\"Helvetica,sans-Serif\" font-size=\"14.00\" fill=\"#000000\">True</text>\n",
       "</g>\n",
       "<!-- 16 -->\n",
       "<g id=\"node17\" class=\"node\">\n",
       "<title>16</title>\n",
       "<path fill=\"#e58139\" fill-opacity=\"0.639216\" stroke=\"#000000\" d=\"M1189,-365C1189,-365 1107,-365 1107,-365 1101,-365 1095,-359 1095,-353 1095,-353 1095,-309 1095,-309 1095,-303 1101,-297 1107,-297 1107,-297 1189,-297 1189,-297 1195,-297 1201,-303 1201,-309 1201,-309 1201,-353 1201,-353 1201,-359 1195,-365 1189,-365\"/>\n",
       "<text text-anchor=\"middle\" x=\"1148\" y=\"-349.8\" font-family=\"Helvetica,sans-Serif\" font-size=\"14.00\" fill=\"#000000\">horror &lt;= 0.5</text>\n",
       "<text text-anchor=\"middle\" x=\"1148\" y=\"-334.8\" font-family=\"Helvetica,sans-Serif\" font-size=\"14.00\" fill=\"#000000\">mse = 1.611</text>\n",
       "<text text-anchor=\"middle\" x=\"1148\" y=\"-319.8\" font-family=\"Helvetica,sans-Serif\" font-size=\"14.00\" fill=\"#000000\">samples = 927</text>\n",
       "<text text-anchor=\"middle\" x=\"1148\" y=\"-304.8\" font-family=\"Helvetica,sans-Serif\" font-size=\"14.00\" fill=\"#000000\">value = 6.154</text>\n",
       "</g>\n",
       "<!-- 0&#45;&gt;16 -->\n",
       "<g id=\"edge16\" class=\"edge\">\n",
       "<title>0&#45;&gt;16</title>\n",
       "<path fill=\"none\" stroke=\"#000000\" d=\"M969.5874,-409.9571C1004.4956,-394.5083 1049.3182,-374.6719 1085.3034,-358.7466\"/>\n",
       "<polygon fill=\"#000000\" stroke=\"#000000\" points=\"1086.9973,-361.8244 1094.7254,-354.5769 1084.1644,-355.4233 1086.9973,-361.8244\"/>\n",
       "<text text-anchor=\"middle\" x=\"1085.714\" y=\"-374.1963\" font-family=\"Helvetica,sans-Serif\" font-size=\"14.00\" fill=\"#000000\">False</text>\n",
       "</g>\n",
       "<!-- 2 -->\n",
       "<g id=\"node3\" class=\"node\">\n",
       "<title>2</title>\n",
       "<path fill=\"#e58139\" fill-opacity=\"0.513725\" stroke=\"#000000\" d=\"M395.5,-261C395.5,-261 300.5,-261 300.5,-261 294.5,-261 288.5,-255 288.5,-249 288.5,-249 288.5,-205 288.5,-205 288.5,-199 294.5,-193 300.5,-193 300.5,-193 395.5,-193 395.5,-193 401.5,-193 407.5,-199 407.5,-205 407.5,-205 407.5,-249 407.5,-249 407.5,-255 401.5,-261 395.5,-261\"/>\n",
       "<text text-anchor=\"middle\" x=\"348\" y=\"-245.8\" font-family=\"Helvetica,sans-Serif\" font-size=\"14.00\" fill=\"#000000\">biography &lt;= 0.5</text>\n",
       "<text text-anchor=\"middle\" x=\"348\" y=\"-230.8\" font-family=\"Helvetica,sans-Serif\" font-size=\"14.00\" fill=\"#000000\">mse = 1.69</text>\n",
       "<text text-anchor=\"middle\" x=\"348\" y=\"-215.8\" font-family=\"Helvetica,sans-Serif\" font-size=\"14.00\" fill=\"#000000\">samples = 551</text>\n",
       "<text text-anchor=\"middle\" x=\"348\" y=\"-200.8\" font-family=\"Helvetica,sans-Serif\" font-size=\"14.00\" fill=\"#000000\">value = 5.35</text>\n",
       "</g>\n",
       "<!-- 1&#45;&gt;2 -->\n",
       "<g id=\"edge2\" class=\"edge\">\n",
       "<title>1&#45;&gt;2</title>\n",
       "<path fill=\"none\" stroke=\"#000000\" d=\"M628.7074,-314.4059C571.4532,-296.5783 480.2416,-268.177 417.415,-248.6143\"/>\n",
       "<polygon fill=\"#000000\" stroke=\"#000000\" points=\"418.1734,-245.1847 407.585,-245.5534 416.0923,-251.8682 418.1734,-245.1847\"/>\n",
       "</g>\n",
       "<!-- 9 -->\n",
       "<g id=\"node10\" class=\"node\">\n",
       "<title>9</title>\n",
       "<path fill=\"#e58139\" fill-opacity=\"0.631373\" stroke=\"#000000\" d=\"M719,-261C719,-261 645,-261 645,-261 639,-261 633,-255 633,-249 633,-249 633,-205 633,-205 633,-199 639,-193 645,-193 645,-193 719,-193 719,-193 725,-193 731,-199 731,-205 731,-205 731,-249 731,-249 731,-255 725,-261 719,-261\"/>\n",
       "<text text-anchor=\"middle\" x=\"682\" y=\"-245.8\" font-family=\"Helvetica,sans-Serif\" font-size=\"14.00\" fill=\"#000000\">akhtar &lt;= 0.5</text>\n",
       "<text text-anchor=\"middle\" x=\"682\" y=\"-230.8\" font-family=\"Helvetica,sans-Serif\" font-size=\"14.00\" fill=\"#000000\">mse = 1.205</text>\n",
       "<text text-anchor=\"middle\" x=\"682\" y=\"-215.8\" font-family=\"Helvetica,sans-Serif\" font-size=\"14.00\" fill=\"#000000\">samples = 84</text>\n",
       "<text text-anchor=\"middle\" x=\"682\" y=\"-200.8\" font-family=\"Helvetica,sans-Serif\" font-size=\"14.00\" fill=\"#000000\">value = 6.095</text>\n",
       "</g>\n",
       "<!-- 1&#45;&gt;9 -->\n",
       "<g id=\"edge9\" class=\"edge\">\n",
       "<title>1&#45;&gt;9</title>\n",
       "<path fill=\"none\" stroke=\"#000000\" d=\"M682,-296.9465C682,-288.776 682,-279.9318 682,-271.3697\"/>\n",
       "<polygon fill=\"#000000\" stroke=\"#000000\" points=\"685.5001,-271.13 682,-261.13 678.5001,-271.13 685.5001,-271.13\"/>\n",
       "</g>\n",
       "<!-- 3 -->\n",
       "<g id=\"node4\" class=\"node\">\n",
       "<title>3</title>\n",
       "<path fill=\"#e58139\" fill-opacity=\"0.513725\" stroke=\"#000000\" d=\"M220.5,-157C220.5,-157 125.5,-157 125.5,-157 119.5,-157 113.5,-151 113.5,-145 113.5,-145 113.5,-101 113.5,-101 113.5,-95 119.5,-89 125.5,-89 125.5,-89 220.5,-89 220.5,-89 226.5,-89 232.5,-95 232.5,-101 232.5,-101 232.5,-145 232.5,-145 232.5,-151 226.5,-157 220.5,-157\"/>\n",
       "<text text-anchor=\"middle\" x=\"173\" y=\"-141.8\" font-family=\"Helvetica,sans-Serif\" font-size=\"14.00\" fill=\"#000000\">adventure &lt;= 0.5</text>\n",
       "<text text-anchor=\"middle\" x=\"173\" y=\"-126.8\" font-family=\"Helvetica,sans-Serif\" font-size=\"14.00\" fill=\"#000000\">mse = 1.655</text>\n",
       "<text text-anchor=\"middle\" x=\"173\" y=\"-111.8\" font-family=\"Helvetica,sans-Serif\" font-size=\"14.00\" fill=\"#000000\">samples = 545</text>\n",
       "<text text-anchor=\"middle\" x=\"173\" y=\"-96.8\" font-family=\"Helvetica,sans-Serif\" font-size=\"14.00\" fill=\"#000000\">value = 5.328</text>\n",
       "</g>\n",
       "<!-- 2&#45;&gt;3 -->\n",
       "<g id=\"edge3\" class=\"edge\">\n",
       "<title>2&#45;&gt;3</title>\n",
       "<path fill=\"none\" stroke=\"#000000\" d=\"M290.6985,-192.9465C274.2306,-183.1599 256.1362,-172.4066 239.1793,-162.3294\"/>\n",
       "<polygon fill=\"#000000\" stroke=\"#000000\" points=\"240.8149,-159.23 230.4303,-157.13 237.2387,-165.2476 240.8149,-159.23\"/>\n",
       "</g>\n",
       "<!-- 6 -->\n",
       "<g id=\"node7\" class=\"node\">\n",
       "<title>6</title>\n",
       "<path fill=\"#e58139\" fill-opacity=\"0.819608\" stroke=\"#000000\" d=\"M385,-157C385,-157 311,-157 311,-157 305,-157 299,-151 299,-145 299,-145 299,-101 299,-101 299,-95 305,-89 311,-89 311,-89 385,-89 385,-89 391,-89 397,-95 397,-101 397,-101 397,-145 397,-145 397,-151 391,-157 385,-157\"/>\n",
       "<text text-anchor=\"middle\" x=\"348\" y=\"-141.8\" font-family=\"Helvetica,sans-Serif\" font-size=\"14.00\" fill=\"#000000\">india &lt;= 0.5</text>\n",
       "<text text-anchor=\"middle\" x=\"348\" y=\"-126.8\" font-family=\"Helvetica,sans-Serif\" font-size=\"14.00\" fill=\"#000000\">mse = 0.889</text>\n",
       "<text text-anchor=\"middle\" x=\"348\" y=\"-111.8\" font-family=\"Helvetica,sans-Serif\" font-size=\"14.00\" fill=\"#000000\">samples = 6</text>\n",
       "<text text-anchor=\"middle\" x=\"348\" y=\"-96.8\" font-family=\"Helvetica,sans-Serif\" font-size=\"14.00\" fill=\"#000000\">value = 7.333</text>\n",
       "</g>\n",
       "<!-- 2&#45;&gt;6 -->\n",
       "<g id=\"edge6\" class=\"edge\">\n",
       "<title>2&#45;&gt;6</title>\n",
       "<path fill=\"none\" stroke=\"#000000\" d=\"M348,-192.9465C348,-184.776 348,-175.9318 348,-167.3697\"/>\n",
       "<polygon fill=\"#000000\" stroke=\"#000000\" points=\"351.5001,-167.13 348,-157.13 344.5001,-167.13 351.5001,-167.13\"/>\n",
       "</g>\n",
       "<!-- 4 -->\n",
       "<g id=\"node5\" class=\"node\">\n",
       "<title>4</title>\n",
       "<path fill=\"#e58139\" fill-opacity=\"0.501961\" stroke=\"#000000\" d=\"M94,-53C94,-53 12,-53 12,-53 6,-53 0,-47 0,-41 0,-41 0,-12 0,-12 0,-6 6,0 12,0 12,0 94,0 94,0 100,0 106,-6 106,-12 106,-12 106,-41 106,-41 106,-47 100,-53 94,-53\"/>\n",
       "<text text-anchor=\"middle\" x=\"53\" y=\"-37.8\" font-family=\"Helvetica,sans-Serif\" font-size=\"14.00\" fill=\"#000000\">mse = 1.583</text>\n",
       "<text text-anchor=\"middle\" x=\"53\" y=\"-22.8\" font-family=\"Helvetica,sans-Serif\" font-size=\"14.00\" fill=\"#000000\">samples = 465</text>\n",
       "<text text-anchor=\"middle\" x=\"53\" y=\"-7.8\" font-family=\"Helvetica,sans-Serif\" font-size=\"14.00\" fill=\"#000000\">value = 5.254</text>\n",
       "</g>\n",
       "<!-- 3&#45;&gt;4 -->\n",
       "<g id=\"edge4\" class=\"edge\">\n",
       "<title>3&#45;&gt;4</title>\n",
       "<path fill=\"none\" stroke=\"#000000\" d=\"M130.6925,-88.9777C118.8501,-79.4545 105.9979,-69.1191 94.2195,-59.6473\"/>\n",
       "<polygon fill=\"#000000\" stroke=\"#000000\" points=\"96.2486,-56.7877 86.2624,-53.2485 91.8618,-62.2427 96.2486,-56.7877\"/>\n",
       "</g>\n",
       "<!-- 5 -->\n",
       "<g id=\"node6\" class=\"node\">\n",
       "<title>5</title>\n",
       "<path fill=\"#e58139\" fill-opacity=\"0.580392\" stroke=\"#000000\" d=\"M210,-53C210,-53 136,-53 136,-53 130,-53 124,-47 124,-41 124,-41 124,-12 124,-12 124,-6 130,0 136,0 136,0 210,0 210,0 216,0 222,-6 222,-12 222,-12 222,-41 222,-41 222,-47 216,-53 210,-53\"/>\n",
       "<text text-anchor=\"middle\" x=\"173\" y=\"-37.8\" font-family=\"Helvetica,sans-Serif\" font-size=\"14.00\" fill=\"#000000\">mse = 1.856</text>\n",
       "<text text-anchor=\"middle\" x=\"173\" y=\"-22.8\" font-family=\"Helvetica,sans-Serif\" font-size=\"14.00\" fill=\"#000000\">samples = 80</text>\n",
       "<text text-anchor=\"middle\" x=\"173\" y=\"-7.8\" font-family=\"Helvetica,sans-Serif\" font-size=\"14.00\" fill=\"#000000\">value = 5.762</text>\n",
       "</g>\n",
       "<!-- 3&#45;&gt;5 -->\n",
       "<g id=\"edge5\" class=\"edge\">\n",
       "<title>3&#45;&gt;5</title>\n",
       "<path fill=\"none\" stroke=\"#000000\" d=\"M173,-88.9777C173,-80.7364 173,-71.887 173,-63.5153\"/>\n",
       "<polygon fill=\"#000000\" stroke=\"#000000\" points=\"176.5001,-63.2484 173,-53.2485 169.5001,-63.2485 176.5001,-63.2484\"/>\n",
       "</g>\n",
       "<!-- 7 -->\n",
       "<g id=\"node8\" class=\"node\">\n",
       "<title>7</title>\n",
       "<path fill=\"#e58139\" fill-opacity=\"0.729412\" stroke=\"#000000\" d=\"M320,-53C320,-53 252,-53 252,-53 246,-53 240,-47 240,-41 240,-41 240,-12 240,-12 240,-6 246,0 252,0 252,0 320,0 320,0 326,0 332,-6 332,-12 332,-12 332,-41 332,-41 332,-47 326,-53 320,-53\"/>\n",
       "<text text-anchor=\"middle\" x=\"286\" y=\"-37.8\" font-family=\"Helvetica,sans-Serif\" font-size=\"14.00\" fill=\"#000000\">mse = 0.188</text>\n",
       "<text text-anchor=\"middle\" x=\"286\" y=\"-22.8\" font-family=\"Helvetica,sans-Serif\" font-size=\"14.00\" fill=\"#000000\">samples = 4</text>\n",
       "<text text-anchor=\"middle\" x=\"286\" y=\"-7.8\" font-family=\"Helvetica,sans-Serif\" font-size=\"14.00\" fill=\"#000000\">value = 6.75</text>\n",
       "</g>\n",
       "<!-- 6&#45;&gt;7 -->\n",
       "<g id=\"edge7\" class=\"edge\">\n",
       "<title>6&#45;&gt;7</title>\n",
       "<path fill=\"none\" stroke=\"#000000\" d=\"M326.1411,-88.9777C320.4932,-80.187 314.4007,-70.7044 308.7104,-61.8477\"/>\n",
       "<polygon fill=\"#000000\" stroke=\"#000000\" points=\"311.5356,-59.7698 303.1856,-53.2485 305.6463,-63.5536 311.5356,-59.7698\"/>\n",
       "</g>\n",
       "<!-- 8 -->\n",
       "<g id=\"node9\" class=\"node\">\n",
       "<title>8</title>\n",
       "<path fill=\"#e58139\" stroke=\"#000000\" d=\"M429.5,-53C429.5,-53 362.5,-53 362.5,-53 356.5,-53 350.5,-47 350.5,-41 350.5,-41 350.5,-12 350.5,-12 350.5,-6 356.5,0 362.5,0 362.5,0 429.5,0 429.5,0 435.5,0 441.5,-6 441.5,-12 441.5,-12 441.5,-41 441.5,-41 441.5,-47 435.5,-53 429.5,-53\"/>\n",
       "<text text-anchor=\"middle\" x=\"396\" y=\"-37.8\" font-family=\"Helvetica,sans-Serif\" font-size=\"14.00\" fill=\"#000000\">mse = 0.25</text>\n",
       "<text text-anchor=\"middle\" x=\"396\" y=\"-22.8\" font-family=\"Helvetica,sans-Serif\" font-size=\"14.00\" fill=\"#000000\">samples = 2</text>\n",
       "<text text-anchor=\"middle\" x=\"396\" y=\"-7.8\" font-family=\"Helvetica,sans-Serif\" font-size=\"14.00\" fill=\"#000000\">value = 8.5</text>\n",
       "</g>\n",
       "<!-- 6&#45;&gt;8 -->\n",
       "<g id=\"edge8\" class=\"edge\">\n",
       "<title>6&#45;&gt;8</title>\n",
       "<path fill=\"none\" stroke=\"#000000\" d=\"M364.923,-88.9777C369.2045,-80.3702 373.816,-71.0992 378.142,-62.402\"/>\n",
       "<polygon fill=\"#000000\" stroke=\"#000000\" points=\"381.3752,-63.7608 382.6951,-53.2485 375.1077,-60.6433 381.3752,-63.7608\"/>\n",
       "</g>\n",
       "<!-- 10 -->\n",
       "<g id=\"node11\" class=\"node\">\n",
       "<title>10</title>\n",
       "<path fill=\"#e58139\" fill-opacity=\"0.623529\" stroke=\"#000000\" d=\"M657,-157C657,-157 583,-157 583,-157 577,-157 571,-151 571,-145 571,-145 571,-101 571,-101 571,-95 577,-89 583,-89 583,-89 657,-89 657,-89 663,-89 669,-95 669,-101 669,-101 669,-145 669,-145 669,-151 663,-157 657,-157\"/>\n",
       "<text text-anchor=\"middle\" x=\"620\" y=\"-141.8\" font-family=\"Helvetica,sans-Serif\" font-size=\"14.00\" fill=\"#000000\">mehra &lt;= 0.5</text>\n",
       "<text text-anchor=\"middle\" x=\"620\" y=\"-126.8\" font-family=\"Helvetica,sans-Serif\" font-size=\"14.00\" fill=\"#000000\">mse = 1.183</text>\n",
       "<text text-anchor=\"middle\" x=\"620\" y=\"-111.8\" font-family=\"Helvetica,sans-Serif\" font-size=\"14.00\" fill=\"#000000\">samples = 81</text>\n",
       "<text text-anchor=\"middle\" x=\"620\" y=\"-96.8\" font-family=\"Helvetica,sans-Serif\" font-size=\"14.00\" fill=\"#000000\">value = 6.049</text>\n",
       "</g>\n",
       "<!-- 9&#45;&gt;10 -->\n",
       "<g id=\"edge10\" class=\"edge\">\n",
       "<title>9&#45;&gt;10</title>\n",
       "<path fill=\"none\" stroke=\"#000000\" d=\"M661.6989,-192.9465C656.5604,-184.3271 650.9749,-174.9579 645.6114,-165.9611\"/>\n",
       "<polygon fill=\"#000000\" stroke=\"#000000\" points=\"648.4737,-163.9272 640.3467,-157.13 642.4611,-167.5117 648.4737,-163.9272\"/>\n",
       "</g>\n",
       "<!-- 13 -->\n",
       "<g id=\"node14\" class=\"node\">\n",
       "<title>13</title>\n",
       "<path fill=\"#e58139\" fill-opacity=\"0.819608\" stroke=\"#000000\" d=\"M788.5,-157C788.5,-157 699.5,-157 699.5,-157 693.5,-157 687.5,-151 687.5,-145 687.5,-145 687.5,-101 687.5,-101 687.5,-95 693.5,-89 699.5,-89 699.5,-89 788.5,-89 788.5,-89 794.5,-89 800.5,-95 800.5,-101 800.5,-101 800.5,-145 800.5,-145 800.5,-151 794.5,-157 788.5,-157\"/>\n",
       "<text text-anchor=\"middle\" x=\"744\" y=\"-141.8\" font-family=\"Helvetica,sans-Serif\" font-size=\"14.00\" fill=\"#000000\">germany &lt;= 0.5</text>\n",
       "<text text-anchor=\"middle\" x=\"744\" y=\"-126.8\" font-family=\"Helvetica,sans-Serif\" font-size=\"14.00\" fill=\"#000000\">mse = 0.222</text>\n",
       "<text text-anchor=\"middle\" x=\"744\" y=\"-111.8\" font-family=\"Helvetica,sans-Serif\" font-size=\"14.00\" fill=\"#000000\">samples = 3</text>\n",
       "<text text-anchor=\"middle\" x=\"744\" y=\"-96.8\" font-family=\"Helvetica,sans-Serif\" font-size=\"14.00\" fill=\"#000000\">value = 7.333</text>\n",
       "</g>\n",
       "<!-- 9&#45;&gt;13 -->\n",
       "<g id=\"edge13\" class=\"edge\">\n",
       "<title>9&#45;&gt;13</title>\n",
       "<path fill=\"none\" stroke=\"#000000\" d=\"M702.3011,-192.9465C707.4396,-184.3271 713.0251,-174.9579 718.3886,-165.9611\"/>\n",
       "<polygon fill=\"#000000\" stroke=\"#000000\" points=\"721.5389,-167.5117 723.6533,-157.13 715.5263,-163.9272 721.5389,-167.5117\"/>\n",
       "</g>\n",
       "<!-- 11 -->\n",
       "<g id=\"node12\" class=\"node\">\n",
       "<title>11</title>\n",
       "<path fill=\"#e58139\" fill-opacity=\"0.615686\" stroke=\"#000000\" d=\"M546,-53C546,-53 472,-53 472,-53 466,-53 460,-47 460,-41 460,-41 460,-12 460,-12 460,-6 466,0 472,0 472,0 546,0 546,0 552,0 558,-6 558,-12 558,-12 558,-41 558,-41 558,-47 552,-53 546,-53\"/>\n",
       "<text text-anchor=\"middle\" x=\"509\" y=\"-37.8\" font-family=\"Helvetica,sans-Serif\" font-size=\"14.00\" fill=\"#000000\">mse = 1.154</text>\n",
       "<text text-anchor=\"middle\" x=\"509\" y=\"-22.8\" font-family=\"Helvetica,sans-Serif\" font-size=\"14.00\" fill=\"#000000\">samples = 78</text>\n",
       "<text text-anchor=\"middle\" x=\"509\" y=\"-7.8\" font-family=\"Helvetica,sans-Serif\" font-size=\"14.00\" fill=\"#000000\">value = 6.0</text>\n",
       "</g>\n",
       "<!-- 10&#45;&gt;11 -->\n",
       "<g id=\"edge11\" class=\"edge\">\n",
       "<title>10&#45;&gt;11</title>\n",
       "<path fill=\"none\" stroke=\"#000000\" d=\"M580.8656,-88.9777C570.0167,-79.546 558.2516,-69.3178 547.4426,-59.9208\"/>\n",
       "<polygon fill=\"#000000\" stroke=\"#000000\" points=\"549.6108,-57.1681 539.7677,-53.2485 545.0181,-62.4508 549.6108,-57.1681\"/>\n",
       "</g>\n",
       "<!-- 12 -->\n",
       "<g id=\"node13\" class=\"node\">\n",
       "<title>12</title>\n",
       "<path fill=\"#e58139\" fill-opacity=\"0.819608\" stroke=\"#000000\" d=\"M662,-53C662,-53 588,-53 588,-53 582,-53 576,-47 576,-41 576,-41 576,-12 576,-12 576,-6 582,0 588,0 588,0 662,0 662,0 668,0 674,-6 674,-12 674,-12 674,-41 674,-41 674,-47 668,-53 662,-53\"/>\n",
       "<text text-anchor=\"middle\" x=\"625\" y=\"-37.8\" font-family=\"Helvetica,sans-Serif\" font-size=\"14.00\" fill=\"#000000\">mse = 0.222</text>\n",
       "<text text-anchor=\"middle\" x=\"625\" y=\"-22.8\" font-family=\"Helvetica,sans-Serif\" font-size=\"14.00\" fill=\"#000000\">samples = 3</text>\n",
       "<text text-anchor=\"middle\" x=\"625\" y=\"-7.8\" font-family=\"Helvetica,sans-Serif\" font-size=\"14.00\" fill=\"#000000\">value = 7.333</text>\n",
       "</g>\n",
       "<!-- 10&#45;&gt;12 -->\n",
       "<g id=\"edge12\" class=\"edge\">\n",
       "<title>10&#45;&gt;12</title>\n",
       "<path fill=\"none\" stroke=\"#000000\" d=\"M621.7628,-88.9777C622.1946,-80.6449 622.6585,-71.6903 623.0966,-63.2364\"/>\n",
       "<polygon fill=\"#000000\" stroke=\"#000000\" points=\"626.5918,-63.4162 623.6141,-53.2485 619.6012,-63.0539 626.5918,-63.4162\"/>\n",
       "</g>\n",
       "<!-- 14 -->\n",
       "<g id=\"node15\" class=\"node\">\n",
       "<title>14</title>\n",
       "<path fill=\"#e58139\" fill-opacity=\"0.847059\" stroke=\"#000000\" d=\"M771.5,-53C771.5,-53 704.5,-53 704.5,-53 698.5,-53 692.5,-47 692.5,-41 692.5,-41 692.5,-12 692.5,-12 692.5,-6 698.5,0 704.5,0 704.5,0 771.5,0 771.5,0 777.5,0 783.5,-6 783.5,-12 783.5,-12 783.5,-41 783.5,-41 783.5,-47 777.5,-53 771.5,-53\"/>\n",
       "<text text-anchor=\"middle\" x=\"738\" y=\"-37.8\" font-family=\"Helvetica,sans-Serif\" font-size=\"14.00\" fill=\"#000000\">mse = 0.25</text>\n",
       "<text text-anchor=\"middle\" x=\"738\" y=\"-22.8\" font-family=\"Helvetica,sans-Serif\" font-size=\"14.00\" fill=\"#000000\">samples = 2</text>\n",
       "<text text-anchor=\"middle\" x=\"738\" y=\"-7.8\" font-family=\"Helvetica,sans-Serif\" font-size=\"14.00\" fill=\"#000000\">value = 7.5</text>\n",
       "</g>\n",
       "<!-- 13&#45;&gt;14 -->\n",
       "<g id=\"edge14\" class=\"edge\">\n",
       "<title>13&#45;&gt;14</title>\n",
       "<path fill=\"none\" stroke=\"#000000\" d=\"M741.8846,-88.9777C741.3665,-80.6449 740.8098,-71.6903 740.2841,-63.2364\"/>\n",
       "<polygon fill=\"#000000\" stroke=\"#000000\" points=\"743.777,-63.012 739.6631,-53.2485 736.7905,-63.4464 743.777,-63.012\"/>\n",
       "</g>\n",
       "<!-- 15 -->\n",
       "<g id=\"node16\" class=\"node\">\n",
       "<title>15</title>\n",
       "<path fill=\"#e58139\" fill-opacity=\"0.768627\" stroke=\"#000000\" d=\"M880.5,-53C880.5,-53 813.5,-53 813.5,-53 807.5,-53 801.5,-47 801.5,-41 801.5,-41 801.5,-12 801.5,-12 801.5,-6 807.5,0 813.5,0 813.5,0 880.5,0 880.5,0 886.5,0 892.5,-6 892.5,-12 892.5,-12 892.5,-41 892.5,-41 892.5,-47 886.5,-53 880.5,-53\"/>\n",
       "<text text-anchor=\"middle\" x=\"847\" y=\"-37.8\" font-family=\"Helvetica,sans-Serif\" font-size=\"14.00\" fill=\"#000000\">mse = 0.0</text>\n",
       "<text text-anchor=\"middle\" x=\"847\" y=\"-22.8\" font-family=\"Helvetica,sans-Serif\" font-size=\"14.00\" fill=\"#000000\">samples = 1</text>\n",
       "<text text-anchor=\"middle\" x=\"847\" y=\"-7.8\" font-family=\"Helvetica,sans-Serif\" font-size=\"14.00\" fill=\"#000000\">value = 7.0</text>\n",
       "</g>\n",
       "<!-- 13&#45;&gt;15 -->\n",
       "<g id=\"edge15\" class=\"edge\">\n",
       "<title>13&#45;&gt;15</title>\n",
       "<path fill=\"none\" stroke=\"#000000\" d=\"M780.3139,-88.9777C790.2832,-79.6376 801.0862,-69.5163 811.0357,-60.1947\"/>\n",
       "<polygon fill=\"#000000\" stroke=\"#000000\" points=\"813.5452,-62.6397 818.4498,-53.2485 808.7592,-57.5314 813.5452,-62.6397\"/>\n",
       "</g>\n",
       "<!-- 17 -->\n",
       "<g id=\"node18\" class=\"node\">\n",
       "<title>17</title>\n",
       "<path fill=\"#e58139\" fill-opacity=\"0.650980\" stroke=\"#000000\" d=\"M1195.5,-261C1195.5,-261 1100.5,-261 1100.5,-261 1094.5,-261 1088.5,-255 1088.5,-249 1088.5,-249 1088.5,-205 1088.5,-205 1088.5,-199 1094.5,-193 1100.5,-193 1100.5,-193 1195.5,-193 1195.5,-193 1201.5,-193 1207.5,-199 1207.5,-205 1207.5,-205 1207.5,-249 1207.5,-249 1207.5,-255 1201.5,-261 1195.5,-261\"/>\n",
       "<text text-anchor=\"middle\" x=\"1148\" y=\"-245.8\" font-family=\"Helvetica,sans-Serif\" font-size=\"14.00\" fill=\"#000000\">biography &lt;= 0.5</text>\n",
       "<text text-anchor=\"middle\" x=\"1148\" y=\"-230.8\" font-family=\"Helvetica,sans-Serif\" font-size=\"14.00\" fill=\"#000000\">mse = 1.539</text>\n",
       "<text text-anchor=\"middle\" x=\"1148\" y=\"-215.8\" font-family=\"Helvetica,sans-Serif\" font-size=\"14.00\" fill=\"#000000\">samples = 868</text>\n",
       "<text text-anchor=\"middle\" x=\"1148\" y=\"-200.8\" font-family=\"Helvetica,sans-Serif\" font-size=\"14.00\" fill=\"#000000\">value = 6.221</text>\n",
       "</g>\n",
       "<!-- 16&#45;&gt;17 -->\n",
       "<g id=\"edge17\" class=\"edge\">\n",
       "<title>16&#45;&gt;17</title>\n",
       "<path fill=\"none\" stroke=\"#000000\" d=\"M1148,-296.9465C1148,-288.776 1148,-279.9318 1148,-271.3697\"/>\n",
       "<polygon fill=\"#000000\" stroke=\"#000000\" points=\"1151.5001,-271.13 1148,-261.13 1144.5001,-271.13 1151.5001,-271.13\"/>\n",
       "</g>\n",
       "<!-- 24 -->\n",
       "<g id=\"node25\" class=\"node\">\n",
       "<title>24</title>\n",
       "<path fill=\"#e58139\" fill-opacity=\"0.486275\" stroke=\"#000000\" d=\"M1480,-261C1480,-261 1388,-261 1388,-261 1382,-261 1376,-255 1376,-249 1376,-249 1376,-205 1376,-205 1376,-199 1382,-193 1388,-193 1388,-193 1480,-193 1480,-193 1486,-193 1492,-199 1492,-205 1492,-205 1492,-249 1492,-249 1492,-255 1486,-261 1480,-261\"/>\n",
       "<text text-anchor=\"middle\" x=\"1434\" y=\"-245.8\" font-family=\"Helvetica,sans-Serif\" font-size=\"14.00\" fill=\"#000000\">anderson &lt;= 0.5</text>\n",
       "<text text-anchor=\"middle\" x=\"1434\" y=\"-230.8\" font-family=\"Helvetica,sans-Serif\" font-size=\"14.00\" fill=\"#000000\">mse = 1.632</text>\n",
       "<text text-anchor=\"middle\" x=\"1434\" y=\"-215.8\" font-family=\"Helvetica,sans-Serif\" font-size=\"14.00\" fill=\"#000000\">samples = 59</text>\n",
       "<text text-anchor=\"middle\" x=\"1434\" y=\"-200.8\" font-family=\"Helvetica,sans-Serif\" font-size=\"14.00\" fill=\"#000000\">value = 5.169</text>\n",
       "</g>\n",
       "<!-- 16&#45;&gt;24 -->\n",
       "<g id=\"edge24\" class=\"edge\">\n",
       "<title>16&#45;&gt;24</title>\n",
       "<path fill=\"none\" stroke=\"#000000\" d=\"M1201.1241,-311.6821C1247.7904,-294.7126 1315.9317,-269.9339 1366.4585,-251.5605\"/>\n",
       "<polygon fill=\"#000000\" stroke=\"#000000\" points=\"1367.796,-254.7985 1375.9978,-248.0917 1365.4037,-248.2199 1367.796,-254.7985\"/>\n",
       "</g>\n",
       "<!-- 18 -->\n",
       "<g id=\"node19\" class=\"node\">\n",
       "<title>18</title>\n",
       "<path fill=\"#e58139\" fill-opacity=\"0.643137\" stroke=\"#000000\" d=\"M1129,-157C1129,-157 1047,-157 1047,-157 1041,-157 1035,-151 1035,-145 1035,-145 1035,-101 1035,-101 1035,-95 1041,-89 1047,-89 1047,-89 1129,-89 1129,-89 1135,-89 1141,-95 1141,-101 1141,-101 1141,-145 1141,-145 1141,-151 1135,-157 1129,-157\"/>\n",
       "<text text-anchor=\"middle\" x=\"1088\" y=\"-141.8\" font-family=\"Helvetica,sans-Serif\" font-size=\"14.00\" fill=\"#000000\">action &lt;= 0.5</text>\n",
       "<text text-anchor=\"middle\" x=\"1088\" y=\"-126.8\" font-family=\"Helvetica,sans-Serif\" font-size=\"14.00\" fill=\"#000000\">mse = 1.55</text>\n",
       "<text text-anchor=\"middle\" x=\"1088\" y=\"-111.8\" font-family=\"Helvetica,sans-Serif\" font-size=\"14.00\" fill=\"#000000\">samples = 820</text>\n",
       "<text text-anchor=\"middle\" x=\"1088\" y=\"-96.8\" font-family=\"Helvetica,sans-Serif\" font-size=\"14.00\" fill=\"#000000\">value = 6.176</text>\n",
       "</g>\n",
       "<!-- 17&#45;&gt;18 -->\n",
       "<g id=\"edge18\" class=\"edge\">\n",
       "<title>17&#45;&gt;18</title>\n",
       "<path fill=\"none\" stroke=\"#000000\" d=\"M1128.3538,-192.9465C1123.381,-184.3271 1117.9757,-174.9579 1112.7852,-165.9611\"/>\n",
       "<polygon fill=\"#000000\" stroke=\"#000000\" points=\"1115.7193,-164.0428 1107.6904,-157.13 1109.656,-167.5409 1115.7193,-164.0428\"/>\n",
       "</g>\n",
       "<!-- 21 -->\n",
       "<g id=\"node22\" class=\"node\">\n",
       "<title>21</title>\n",
       "<path fill=\"#e58139\" fill-opacity=\"0.768627\" stroke=\"#000000\" d=\"M1245,-157C1245,-157 1171,-157 1171,-157 1165,-157 1159,-151 1159,-145 1159,-145 1159,-101 1159,-101 1159,-95 1165,-89 1171,-89 1171,-89 1245,-89 1245,-89 1251,-89 1257,-95 1257,-101 1257,-101 1257,-145 1257,-145 1257,-151 1251,-157 1245,-157\"/>\n",
       "<text text-anchor=\"middle\" x=\"1208\" y=\"-141.8\" font-family=\"Helvetica,sans-Serif\" font-size=\"14.00\" fill=\"#000000\">bulger &lt;= 0.5</text>\n",
       "<text text-anchor=\"middle\" x=\"1208\" y=\"-126.8\" font-family=\"Helvetica,sans-Serif\" font-size=\"14.00\" fill=\"#000000\">mse = 0.708</text>\n",
       "<text text-anchor=\"middle\" x=\"1208\" y=\"-111.8\" font-family=\"Helvetica,sans-Serif\" font-size=\"14.00\" fill=\"#000000\">samples = 48</text>\n",
       "<text text-anchor=\"middle\" x=\"1208\" y=\"-96.8\" font-family=\"Helvetica,sans-Serif\" font-size=\"14.00\" fill=\"#000000\">value = 7.0</text>\n",
       "</g>\n",
       "<!-- 17&#45;&gt;21 -->\n",
       "<g id=\"edge21\" class=\"edge\">\n",
       "<title>17&#45;&gt;21</title>\n",
       "<path fill=\"none\" stroke=\"#000000\" d=\"M1167.6462,-192.9465C1172.619,-184.3271 1178.0243,-174.9579 1183.2148,-165.9611\"/>\n",
       "<polygon fill=\"#000000\" stroke=\"#000000\" points=\"1186.344,-167.5409 1188.3096,-157.13 1180.2807,-164.0428 1186.344,-167.5409\"/>\n",
       "</g>\n",
       "<!-- 19 -->\n",
       "<g id=\"node20\" class=\"node\">\n",
       "<title>19</title>\n",
       "<path fill=\"#e58139\" fill-opacity=\"0.650980\" stroke=\"#000000\" d=\"M1005,-53C1005,-53 923,-53 923,-53 917,-53 911,-47 911,-41 911,-41 911,-12 911,-12 911,-6 917,0 923,0 923,0 1005,0 1005,0 1011,0 1017,-6 1017,-12 1017,-12 1017,-41 1017,-41 1017,-47 1011,-53 1005,-53\"/>\n",
       "<text text-anchor=\"middle\" x=\"964\" y=\"-37.8\" font-family=\"Helvetica,sans-Serif\" font-size=\"14.00\" fill=\"#000000\">mse = 1.484</text>\n",
       "<text text-anchor=\"middle\" x=\"964\" y=\"-22.8\" font-family=\"Helvetica,sans-Serif\" font-size=\"14.00\" fill=\"#000000\">samples = 686</text>\n",
       "<text text-anchor=\"middle\" x=\"964\" y=\"-7.8\" font-family=\"Helvetica,sans-Serif\" font-size=\"14.00\" fill=\"#000000\">value = 6.243</text>\n",
       "</g>\n",
       "<!-- 18&#45;&gt;19 -->\n",
       "<g id=\"edge19\" class=\"edge\">\n",
       "<title>18&#45;&gt;19</title>\n",
       "<path fill=\"none\" stroke=\"#000000\" d=\"M1044.2822,-88.9777C1032.0451,-79.4545 1018.7645,-69.1191 1006.5934,-59.6473\"/>\n",
       "<polygon fill=\"#000000\" stroke=\"#000000\" points=\"1008.4125,-56.628 998.3711,-53.2485 1004.1134,-62.1523 1008.4125,-56.628\"/>\n",
       "</g>\n",
       "<!-- 20 -->\n",
       "<g id=\"node21\" class=\"node\">\n",
       "<title>20</title>\n",
       "<path fill=\"#e58139\" fill-opacity=\"0.588235\" stroke=\"#000000\" d=\"M1129,-53C1129,-53 1047,-53 1047,-53 1041,-53 1035,-47 1035,-41 1035,-41 1035,-12 1035,-12 1035,-6 1041,0 1047,0 1047,0 1129,0 1129,0 1135,0 1141,-6 1141,-12 1141,-12 1141,-41 1141,-41 1141,-47 1135,-53 1129,-53\"/>\n",
       "<text text-anchor=\"middle\" x=\"1088\" y=\"-37.8\" font-family=\"Helvetica,sans-Serif\" font-size=\"14.00\" fill=\"#000000\">mse = 1.739</text>\n",
       "<text text-anchor=\"middle\" x=\"1088\" y=\"-22.8\" font-family=\"Helvetica,sans-Serif\" font-size=\"14.00\" fill=\"#000000\">samples = 134</text>\n",
       "<text text-anchor=\"middle\" x=\"1088\" y=\"-7.8\" font-family=\"Helvetica,sans-Serif\" font-size=\"14.00\" fill=\"#000000\">value = 5.828</text>\n",
       "</g>\n",
       "<!-- 18&#45;&gt;20 -->\n",
       "<g id=\"edge20\" class=\"edge\">\n",
       "<title>18&#45;&gt;20</title>\n",
       "<path fill=\"none\" stroke=\"#000000\" d=\"M1088,-88.9777C1088,-80.7364 1088,-71.887 1088,-63.5153\"/>\n",
       "<polygon fill=\"#000000\" stroke=\"#000000\" points=\"1091.5001,-63.2484 1088,-53.2485 1084.5001,-63.2485 1091.5001,-63.2484\"/>\n",
       "</g>\n",
       "<!-- 22 -->\n",
       "<g id=\"node23\" class=\"node\">\n",
       "<title>22</title>\n",
       "<path fill=\"#e58139\" fill-opacity=\"0.776471\" stroke=\"#000000\" d=\"M1245,-53C1245,-53 1171,-53 1171,-53 1165,-53 1159,-47 1159,-41 1159,-41 1159,-12 1159,-12 1159,-6 1165,0 1171,0 1171,0 1245,0 1245,0 1251,0 1257,-6 1257,-12 1257,-12 1257,-41 1257,-41 1257,-47 1251,-53 1245,-53\"/>\n",
       "<text text-anchor=\"middle\" x=\"1208\" y=\"-37.8\" font-family=\"Helvetica,sans-Serif\" font-size=\"14.00\" fill=\"#000000\">mse = 0.636</text>\n",
       "<text text-anchor=\"middle\" x=\"1208\" y=\"-22.8\" font-family=\"Helvetica,sans-Serif\" font-size=\"14.00\" fill=\"#000000\">samples = 47</text>\n",
       "<text text-anchor=\"middle\" x=\"1208\" y=\"-7.8\" font-family=\"Helvetica,sans-Serif\" font-size=\"14.00\" fill=\"#000000\">value = 7.043</text>\n",
       "</g>\n",
       "<!-- 21&#45;&gt;22 -->\n",
       "<g id=\"edge22\" class=\"edge\">\n",
       "<title>21&#45;&gt;22</title>\n",
       "<path fill=\"none\" stroke=\"#000000\" d=\"M1208,-88.9777C1208,-80.7364 1208,-71.887 1208,-63.5153\"/>\n",
       "<polygon fill=\"#000000\" stroke=\"#000000\" points=\"1211.5001,-63.2484 1208,-53.2485 1204.5001,-63.2485 1211.5001,-63.2484\"/>\n",
       "</g>\n",
       "<!-- 23 -->\n",
       "<g id=\"node24\" class=\"node\">\n",
       "<title>23</title>\n",
       "<path fill=\"#e58139\" fill-opacity=\"0.462745\" stroke=\"#000000\" d=\"M1354.5,-53C1354.5,-53 1287.5,-53 1287.5,-53 1281.5,-53 1275.5,-47 1275.5,-41 1275.5,-41 1275.5,-12 1275.5,-12 1275.5,-6 1281.5,0 1287.5,0 1287.5,0 1354.5,0 1354.5,0 1360.5,0 1366.5,-6 1366.5,-12 1366.5,-12 1366.5,-41 1366.5,-41 1366.5,-47 1360.5,-53 1354.5,-53\"/>\n",
       "<text text-anchor=\"middle\" x=\"1321\" y=\"-37.8\" font-family=\"Helvetica,sans-Serif\" font-size=\"14.00\" fill=\"#000000\">mse = 0.0</text>\n",
       "<text text-anchor=\"middle\" x=\"1321\" y=\"-22.8\" font-family=\"Helvetica,sans-Serif\" font-size=\"14.00\" fill=\"#000000\">samples = 1</text>\n",
       "<text text-anchor=\"middle\" x=\"1321\" y=\"-7.8\" font-family=\"Helvetica,sans-Serif\" font-size=\"14.00\" fill=\"#000000\">value = 5.0</text>\n",
       "</g>\n",
       "<!-- 21&#45;&gt;23 -->\n",
       "<g id=\"edge23\" class=\"edge\">\n",
       "<title>21&#45;&gt;23</title>\n",
       "<path fill=\"none\" stroke=\"#000000\" d=\"M1247.8396,-88.9777C1258.8839,-79.546 1270.861,-69.3178 1281.8648,-59.9208\"/>\n",
       "<polygon fill=\"#000000\" stroke=\"#000000\" points=\"1284.3464,-62.4041 1289.6779,-53.2485 1279.8006,-57.081 1284.3464,-62.4041\"/>\n",
       "</g>\n",
       "<!-- 25 -->\n",
       "<g id=\"node26\" class=\"node\">\n",
       "<title>25</title>\n",
       "<path fill=\"#e58139\" fill-opacity=\"0.494118\" stroke=\"#000000\" d=\"M1471,-157C1471,-157 1397,-157 1397,-157 1391,-157 1385,-151 1385,-145 1385,-145 1385,-101 1385,-101 1385,-95 1391,-89 1397,-89 1397,-89 1471,-89 1471,-89 1477,-89 1483,-95 1483,-101 1483,-101 1483,-145 1483,-145 1483,-151 1477,-157 1471,-157\"/>\n",
       "<text text-anchor=\"middle\" x=\"1434\" y=\"-141.8\" font-family=\"Helvetica,sans-Serif\" font-size=\"14.00\" fill=\"#000000\">roland &lt;= 0.5</text>\n",
       "<text text-anchor=\"middle\" x=\"1434\" y=\"-126.8\" font-family=\"Helvetica,sans-Serif\" font-size=\"14.00\" fill=\"#000000\">mse = 1.484</text>\n",
       "<text text-anchor=\"middle\" x=\"1434\" y=\"-111.8\" font-family=\"Helvetica,sans-Serif\" font-size=\"14.00\" fill=\"#000000\">samples = 58</text>\n",
       "<text text-anchor=\"middle\" x=\"1434\" y=\"-96.8\" font-family=\"Helvetica,sans-Serif\" font-size=\"14.00\" fill=\"#000000\">value = 5.224</text>\n",
       "</g>\n",
       "<!-- 24&#45;&gt;25 -->\n",
       "<g id=\"edge25\" class=\"edge\">\n",
       "<title>24&#45;&gt;25</title>\n",
       "<path fill=\"none\" stroke=\"#000000\" d=\"M1434,-192.9465C1434,-184.776 1434,-175.9318 1434,-167.3697\"/>\n",
       "<polygon fill=\"#000000\" stroke=\"#000000\" points=\"1437.5001,-167.13 1434,-157.13 1430.5001,-167.13 1437.5001,-167.13\"/>\n",
       "</g>\n",
       "<!-- 28 -->\n",
       "<g id=\"node29\" class=\"node\">\n",
       "<title>28</title>\n",
       "<path fill=\"transparent\" stroke=\"#000000\" d=\"M1580.5,-149.5C1580.5,-149.5 1513.5,-149.5 1513.5,-149.5 1507.5,-149.5 1501.5,-143.5 1501.5,-137.5 1501.5,-137.5 1501.5,-108.5 1501.5,-108.5 1501.5,-102.5 1507.5,-96.5 1513.5,-96.5 1513.5,-96.5 1580.5,-96.5 1580.5,-96.5 1586.5,-96.5 1592.5,-102.5 1592.5,-108.5 1592.5,-108.5 1592.5,-137.5 1592.5,-137.5 1592.5,-143.5 1586.5,-149.5 1580.5,-149.5\"/>\n",
       "<text text-anchor=\"middle\" x=\"1547\" y=\"-134.3\" font-family=\"Helvetica,sans-Serif\" font-size=\"14.00\" fill=\"#000000\">mse = 0.0</text>\n",
       "<text text-anchor=\"middle\" x=\"1547\" y=\"-119.3\" font-family=\"Helvetica,sans-Serif\" font-size=\"14.00\" fill=\"#000000\">samples = 1</text>\n",
       "<text text-anchor=\"middle\" x=\"1547\" y=\"-104.3\" font-family=\"Helvetica,sans-Serif\" font-size=\"14.00\" fill=\"#000000\">value = 2.0</text>\n",
       "</g>\n",
       "<!-- 24&#45;&gt;28 -->\n",
       "<g id=\"edge28\" class=\"edge\">\n",
       "<title>24&#45;&gt;28</title>\n",
       "<path fill=\"none\" stroke=\"#000000\" d=\"M1471.0004,-192.9465C1483.6866,-181.2707 1497.8678,-168.219 1510.513,-156.5809\"/>\n",
       "<polygon fill=\"#000000\" stroke=\"#000000\" points=\"1513.1731,-158.8895 1518.1609,-149.5422 1508.4327,-153.7389 1513.1731,-158.8895\"/>\n",
       "</g>\n",
       "<!-- 26 -->\n",
       "<g id=\"node27\" class=\"node\">\n",
       "<title>26</title>\n",
       "<path fill=\"#e58139\" fill-opacity=\"0.490196\" stroke=\"#000000\" d=\"M1471,-53C1471,-53 1397,-53 1397,-53 1391,-53 1385,-47 1385,-41 1385,-41 1385,-12 1385,-12 1385,-6 1391,0 1397,0 1397,0 1471,0 1471,0 1477,0 1483,-6 1483,-12 1483,-12 1483,-41 1483,-41 1483,-47 1477,-53 1471,-53\"/>\n",
       "<text text-anchor=\"middle\" x=\"1434\" y=\"-37.8\" font-family=\"Helvetica,sans-Serif\" font-size=\"14.00\" fill=\"#000000\">mse = 1.373</text>\n",
       "<text text-anchor=\"middle\" x=\"1434\" y=\"-22.8\" font-family=\"Helvetica,sans-Serif\" font-size=\"14.00\" fill=\"#000000\">samples = 57</text>\n",
       "<text text-anchor=\"middle\" x=\"1434\" y=\"-7.8\" font-family=\"Helvetica,sans-Serif\" font-size=\"14.00\" fill=\"#000000\">value = 5.175</text>\n",
       "</g>\n",
       "<!-- 25&#45;&gt;26 -->\n",
       "<g id=\"edge26\" class=\"edge\">\n",
       "<title>25&#45;&gt;26</title>\n",
       "<path fill=\"none\" stroke=\"#000000\" d=\"M1434,-88.9777C1434,-80.7364 1434,-71.887 1434,-63.5153\"/>\n",
       "<polygon fill=\"#000000\" stroke=\"#000000\" points=\"1437.5001,-63.2484 1434,-53.2485 1430.5001,-63.2485 1437.5001,-63.2484\"/>\n",
       "</g>\n",
       "<!-- 27 -->\n",
       "<g id=\"node28\" class=\"node\">\n",
       "<title>27</title>\n",
       "<path fill=\"#e58139\" fill-opacity=\"0.921569\" stroke=\"#000000\" d=\"M1580.5,-53C1580.5,-53 1513.5,-53 1513.5,-53 1507.5,-53 1501.5,-47 1501.5,-41 1501.5,-41 1501.5,-12 1501.5,-12 1501.5,-6 1507.5,0 1513.5,0 1513.5,0 1580.5,0 1580.5,0 1586.5,0 1592.5,-6 1592.5,-12 1592.5,-12 1592.5,-41 1592.5,-41 1592.5,-47 1586.5,-53 1580.5,-53\"/>\n",
       "<text text-anchor=\"middle\" x=\"1547\" y=\"-37.8\" font-family=\"Helvetica,sans-Serif\" font-size=\"14.00\" fill=\"#000000\">mse = 0.0</text>\n",
       "<text text-anchor=\"middle\" x=\"1547\" y=\"-22.8\" font-family=\"Helvetica,sans-Serif\" font-size=\"14.00\" fill=\"#000000\">samples = 1</text>\n",
       "<text text-anchor=\"middle\" x=\"1547\" y=\"-7.8\" font-family=\"Helvetica,sans-Serif\" font-size=\"14.00\" fill=\"#000000\">value = 8.0</text>\n",
       "</g>\n",
       "<!-- 25&#45;&gt;27 -->\n",
       "<g id=\"edge27\" class=\"edge\">\n",
       "<title>25&#45;&gt;27</title>\n",
       "<path fill=\"none\" stroke=\"#000000\" d=\"M1473.8396,-88.9777C1484.8839,-79.546 1496.861,-69.3178 1507.8648,-59.9208\"/>\n",
       "<polygon fill=\"#000000\" stroke=\"#000000\" points=\"1510.3464,-62.4041 1515.6779,-53.2485 1505.8006,-57.081 1510.3464,-62.4041\"/>\n",
       "</g>\n",
       "</g>\n",
       "</svg>\n"
      ],
      "text/plain": [
       "<graphviz.files.Source at 0x7fe24de75240>"
      ]
     },
     "execution_count": 48,
     "metadata": {},
     "output_type": "execute_result"
    }
   ],
   "source": [
    "import graphviz \n",
    "\n",
    "dot_data = tree.export_graphviz(d_tree, out_file=None, \n",
    "                                feature_names=column_names,  filled=True, rounded=True) \n",
    "graph = graphviz.Source(dot_data)\n",
    "\n",
    "graph"
   ]
  },
  {
   "cell_type": "markdown",
   "metadata": {},
   "source": [
    "## Hyperparameter Optimization"
   ]
  },
  {
   "cell_type": "markdown",
   "metadata": {},
   "source": [
    "## GridSearch"
   ]
  },
  {
   "cell_type": "markdown",
   "metadata": {},
   "source": [
    "### Linear Model"
   ]
  },
  {
   "cell_type": "code",
   "execution_count": 91,
   "metadata": {},
   "outputs": [
    {
     "name": "stderr",
     "output_type": "stream",
     "text": [
      "/home/amir/anaconda3/envs/dl/lib/python3.6/site-packages/sklearn/model_selection/_split.py:1943: FutureWarning: You should specify a value for 'cv' instead of relying on the default value. The default value will change from 3 to 5 in version 0.22.\n",
      "  warnings.warn(CV_WARNING, FutureWarning)\n",
      "/home/amir/anaconda3/envs/dl/lib/python3.6/site-packages/sklearn/linear_model/ridge.py:167: UserWarning: Singular matrix in solving dual problem. Using least-squares solution instead.\n",
      "  warnings.warn(\"Singular matrix in solving dual problem. Using \"\n",
      "/home/amir/anaconda3/envs/dl/lib/python3.6/site-packages/sklearn/linear_model/ridge.py:167: UserWarning: Singular matrix in solving dual problem. Using least-squares solution instead.\n",
      "  warnings.warn(\"Singular matrix in solving dual problem. Using \"\n",
      "/home/amir/anaconda3/envs/dl/lib/python3.6/site-packages/sklearn/linear_model/ridge.py:167: UserWarning: Singular matrix in solving dual problem. Using least-squares solution instead.\n",
      "  warnings.warn(\"Singular matrix in solving dual problem. Using \"\n",
      "/home/amir/anaconda3/envs/dl/lib/python3.6/site-packages/sklearn/linear_model/ridge.py:167: UserWarning: Singular matrix in solving dual problem. Using least-squares solution instead.\n",
      "  warnings.warn(\"Singular matrix in solving dual problem. Using \"\n",
      "/home/amir/anaconda3/envs/dl/lib/python3.6/site-packages/sklearn/linear_model/ridge.py:167: UserWarning: Singular matrix in solving dual problem. Using least-squares solution instead.\n",
      "  warnings.warn(\"Singular matrix in solving dual problem. Using \"\n",
      "/home/amir/anaconda3/envs/dl/lib/python3.6/site-packages/sklearn/linear_model/ridge.py:167: UserWarning: Singular matrix in solving dual problem. Using least-squares solution instead.\n",
      "  warnings.warn(\"Singular matrix in solving dual problem. Using \"\n",
      "/home/amir/anaconda3/envs/dl/lib/python3.6/site-packages/sklearn/linear_model/ridge.py:167: UserWarning: Singular matrix in solving dual problem. Using least-squares solution instead.\n",
      "  warnings.warn(\"Singular matrix in solving dual problem. Using \"\n",
      "/home/amir/anaconda3/envs/dl/lib/python3.6/site-packages/sklearn/linear_model/ridge.py:167: UserWarning: Singular matrix in solving dual problem. Using least-squares solution instead.\n",
      "  warnings.warn(\"Singular matrix in solving dual problem. Using \"\n",
      "/home/amir/anaconda3/envs/dl/lib/python3.6/site-packages/sklearn/linear_model/ridge.py:167: UserWarning: Singular matrix in solving dual problem. Using least-squares solution instead.\n",
      "  warnings.warn(\"Singular matrix in solving dual problem. Using \"\n",
      "/home/amir/anaconda3/envs/dl/lib/python3.6/site-packages/sklearn/linear_model/ridge.py:167: UserWarning: Singular matrix in solving dual problem. Using least-squares solution instead.\n",
      "  warnings.warn(\"Singular matrix in solving dual problem. Using \"\n",
      "/home/amir/anaconda3/envs/dl/lib/python3.6/site-packages/sklearn/linear_model/ridge.py:167: UserWarning: Singular matrix in solving dual problem. Using least-squares solution instead.\n",
      "  warnings.warn(\"Singular matrix in solving dual problem. Using \"\n",
      "/home/amir/anaconda3/envs/dl/lib/python3.6/site-packages/sklearn/linear_model/ridge.py:167: UserWarning: Singular matrix in solving dual problem. Using least-squares solution instead.\n",
      "  warnings.warn(\"Singular matrix in solving dual problem. Using \"\n",
      "/home/amir/anaconda3/envs/dl/lib/python3.6/site-packages/sklearn/model_selection/_search.py:841: DeprecationWarning: The default of the `iid` parameter will change from True to False in version 0.22 and will be removed in 0.24. This will change numeric results when test-set sizes are unequal.\n",
      "  DeprecationWarning)\n"
     ]
    },
    {
     "data": {
      "text/plain": [
       "GridSearchCV(cv='warn', error_score='raise-deprecating',\n",
       "       estimator=Ridge(alpha=1.0, copy_X=True, fit_intercept=True, max_iter=None,\n",
       "   normalize=False, random_state=10, solver='auto', tol=0.001),\n",
       "       fit_params=None, iid='warn', n_jobs=None,\n",
       "       param_grid={'alpha': array([0.     , 0.11111, 0.22222, 0.33333, 0.44444, 0.55556, 0.66667,\n",
       "       0.77778, 0.88889, 1.     ]), 'normalize': [True, False], 'solver': ['auto', 'cholesky', 'sparse_cg']},\n",
       "       pre_dispatch='2*n_jobs', refit=True, return_train_score='warn',\n",
       "       scoring='neg_mean_absolute_error', verbose=0)"
      ]
     },
     "execution_count": 91,
     "metadata": {},
     "output_type": "execute_result"
    }
   ],
   "source": [
    "param_lr = {'alpha': np.linspace(0, 1, 10),\n",
    "                 'normalize': [True, False],\n",
    "                 'solver': ['auto', 'cholesky', 'sparse_cg']\n",
    "                }\n",
    "\n",
    "score = 'neg_mean_absolute_error'\n",
    "\n",
    "ridge = GridSearchCV(Ridge(random_state=seed_number), param_grid=param_lr, scoring=score)\n",
    "ridge.fit(X_train, y_train)"
   ]
  },
  {
   "cell_type": "code",
   "execution_count": 51,
   "metadata": {},
   "outputs": [
    {
     "name": "stdout",
     "output_type": "stream",
     "text": [
      "Best parameterse for score neg_mean_squared_error: {'alpha': 1.0, 'normalize': True, 'solver': 'sparse_cg'}\n"
     ]
    }
   ],
   "source": [
    "print('Best parameterse for score {}: {}'.format(s, ridge.best_params_)) "
   ]
  },
  {
   "cell_type": "code",
   "execution_count": 52,
   "metadata": {
    "collapsed": true
   },
   "outputs": [],
   "source": [
    "y_pred = ridge.predict(X_test)"
   ]
  },
  {
   "cell_type": "code",
   "execution_count": 53,
   "metadata": {},
   "outputs": [
    {
     "name": "stdout",
     "output_type": "stream",
     "text": [
      "-0.5980959616307482 1.5970785983386393 0.993548759498827\n"
     ]
    }
   ],
   "source": [
    "print(ridge.score(X_train, y_train), mean_squared_error(y_test, y_pred), mean_absolute_error(y_test, y_pred))"
   ]
  },
  {
   "cell_type": "markdown",
   "metadata": {},
   "source": [
    "#### Decision Tree"
   ]
  },
  {
   "cell_type": "code",
   "execution_count": 88,
   "metadata": {
    "collapsed": true
   },
   "outputs": [],
   "source": [
    "param_dt = {\"max_depth\": np.arange(2, 20), \n",
    "             'splitter': ['best', 'random'],\n",
    "              'min_samples_split': np.arange(2, 5)}"
   ]
  },
  {
   "cell_type": "code",
   "execution_count": 89,
   "metadata": {},
   "outputs": [
    {
     "name": "stderr",
     "output_type": "stream",
     "text": [
      "/home/amir/anaconda3/envs/dl/lib/python3.6/site-packages/sklearn/model_selection/_split.py:1943: FutureWarning: You should specify a value for 'cv' instead of relying on the default value. The default value will change from 3 to 5 in version 0.22.\n",
      "  warnings.warn(CV_WARNING, FutureWarning)\n"
     ]
    },
    {
     "name": "stdout",
     "output_type": "stream",
     "text": [
      "Best parameterse for score neg_mean_squared_error: {'max_depth': 3, 'min_samples_split': 2, 'splitter': 'random'}\n"
     ]
    }
   ],
   "source": [
    "score = 'neg_mean_absolute_error'\n",
    "\n",
    "dt_tree_reg = GridSearchCV(DecisionTreeRegressor(random_state=seed_number), param_grid=param_dt, scoring=score)\n",
    "dt_tree_reg.fit(X_train, y_train)\n",
    "print('Best parameterse for score {}: {}'.format(s, dt_tree_reg.best_params_))"
   ]
  },
  {
   "cell_type": "code",
   "execution_count": 76,
   "metadata": {
    "collapsed": true
   },
   "outputs": [],
   "source": [
    "y_pred_dt = dt_tree_reg.predict(X_test)"
   ]
  },
  {
   "cell_type": "code",
   "execution_count": 77,
   "metadata": {},
   "outputs": [
    {
     "name": "stdout",
     "output_type": "stream",
     "text": [
      "-1.0083483358322363 1.5786510889315089 1.0067933917792493\n"
     ]
    }
   ],
   "source": [
    "print(dt_tree_reg.score(X_train, y_train), mean_squared_error(y_test, y_pred_dt), mean_absolute_error(y_test, y_pred_dt))"
   ]
  },
  {
   "cell_type": "markdown",
   "metadata": {},
   "source": [
    "### Random Search"
   ]
  },
  {
   "cell_type": "markdown",
   "metadata": {},
   "source": [
    "### Linear Model"
   ]
  },
  {
   "cell_type": "code",
   "execution_count": 92,
   "metadata": {},
   "outputs": [
    {
     "name": "stderr",
     "output_type": "stream",
     "text": [
      "/home/amir/anaconda3/envs/dl/lib/python3.6/site-packages/sklearn/model_selection/_split.py:1943: FutureWarning: You should specify a value for 'cv' instead of relying on the default value. The default value will change from 3 to 5 in version 0.22.\n",
      "  warnings.warn(CV_WARNING, FutureWarning)\n"
     ]
    },
    {
     "name": "stdout",
     "output_type": "stream",
     "text": [
      "Best parameterse for score neg_mean_squared_error: {'splitter': 'random', 'min_samples_split': 4, 'max_depth': 3}\n"
     ]
    }
   ],
   "source": [
    "# run randomized search\n",
    "n_iter_search = 20\n",
    "random_lr = RandomizedSearchCV(Ridge(random_state=seed_number), param_distributions=param_lr,\n",
    "                                   n_iter=n_iter_search)\n",
    "\n",
    "random_lr.fit(X_train, y_train)\n",
    "print('Best parameterse for score {}: {}'.format(s, random_dtree.best_params_))"
   ]
  },
  {
   "cell_type": "code",
   "execution_count": 93,
   "metadata": {
    "collapsed": true
   },
   "outputs": [],
   "source": [
    "y_pred_r_lreg = random_lr.predict(X_test)"
   ]
  },
  {
   "cell_type": "code",
   "execution_count": 95,
   "metadata": {},
   "outputs": [
    {
     "name": "stdout",
     "output_type": "stream",
     "text": [
      "0.6190711641607636 1.5970785983386393 0.993548759498827\n"
     ]
    }
   ],
   "source": [
    "print(random_lr.score(X_train, y_train), mean_squared_error(y_test, y_pred_r_lreg), mean_absolute_error(y_test, y_pred_r_lreg))"
   ]
  },
  {
   "cell_type": "markdown",
   "metadata": {},
   "source": [
    "### Decision Tree"
   ]
  },
  {
   "cell_type": "code",
   "execution_count": 90,
   "metadata": {},
   "outputs": [
    {
     "name": "stderr",
     "output_type": "stream",
     "text": [
      "/home/amir/anaconda3/envs/dl/lib/python3.6/site-packages/sklearn/model_selection/_split.py:1943: FutureWarning: You should specify a value for 'cv' instead of relying on the default value. The default value will change from 3 to 5 in version 0.22.\n",
      "  warnings.warn(CV_WARNING, FutureWarning)\n"
     ]
    },
    {
     "name": "stdout",
     "output_type": "stream",
     "text": [
      "Best parameterse for score neg_mean_squared_error: {'splitter': 'random', 'min_samples_split': 4, 'max_depth': 3}\n"
     ]
    }
   ],
   "source": [
    "# run randomized search\n",
    "n_iter_search = 20\n",
    "random_dtree = RandomizedSearchCV(DecisionTreeRegressor(random_state=seed_number), param_distributions=param_dt,\n",
    "                                   n_iter=n_iter_search)\n",
    "\n",
    "random_dtree.fit(X_train, y_train)\n",
    "print('Best parameterse for score {}: {}'.format(s, random_dtree.best_params_))"
   ]
  },
  {
   "cell_type": "code",
   "execution_count": 99,
   "metadata": {
    "collapsed": true
   },
   "outputs": [],
   "source": [
    "y_pred_dt_random = random_dtree.predict(X_test)"
   ]
  },
  {
   "cell_type": "code",
   "execution_count": 100,
   "metadata": {},
   "outputs": [
    {
     "name": "stdout",
     "output_type": "stream",
     "text": [
      "0.13028835106536085 1.5549752874345513 0.9899790016579753\n"
     ]
    }
   ],
   "source": [
    "print(random_dtree.score(X_train, y_train), mean_squared_error(y_test, y_pred_dt_random), mean_absolute_error(y_test, y_pred_dt_random))"
   ]
  },
  {
   "cell_type": "markdown",
   "metadata": {},
   "source": [
    "Let us visually compare the results of both techniques:"
   ]
  },
  {
   "cell_type": "code",
   "execution_count": 117,
   "metadata": {
    "collapsed": true
   },
   "outputs": [],
   "source": [
    "lr_grid_score = ridge.score(X_train, y_train)\n",
    "lr_random_score = random_lr.score(X_train, y_train)\n",
    "\n",
    "lr_grid_mse =  mean_squared_error(y_test, y_pred)\n",
    "lr_random_mse = mean_squared_error(y_test, y_pred_r_lreg)\n",
    "\n",
    "lr_grid_mae = mean_absolute_error(y_test, y_pred)\n",
    "lr_random_mae = mean_absolute_error(y_test, y_pred_r_lreg)\n",
    "\n",
    "\n",
    "lr_grid_all_scores = [lr_grid_score, lr_grid_mse, lr_random_mae]\n",
    "lr_random_all_scores = [lr_random_score, lr_random_mse, lr_random_mae]"
   ]
  },
  {
   "cell_type": "code",
   "execution_count": 118,
   "metadata": {
    "collapsed": true
   },
   "outputs": [],
   "source": [
    "dt_grid_score = dt_tree_reg.score(X_train, y_train)\n",
    "dt_random_score = random_dtree.score(X_train, y_train)\n",
    "\n",
    "dt_grid_mse =  mean_squared_error(y_test, y_pred_dt)\n",
    "dt_random_mse = mean_squared_error(y_test, y_pred_dt_random)\n",
    "\n",
    "dt_grid_mae = mean_absolute_error(y_test, y_pred_dt)\n",
    "dt_random_mae =  mean_absolute_error(y_test, y_pred_dt_random)\n",
    "\n",
    "dt_grid_all_scores = [dt_grid_score, dt_grid_mse, dt_grid_mae]\n",
    "dt_random_all_scores = [dt_random_score, dt_random_mse, dt_random_mae]"
   ]
  },
  {
   "cell_type": "code",
   "execution_count": 119,
   "metadata": {},
   "outputs": [
    {
     "data": {
      "image/png": "[encoded data removed]",
      "text/plain": [
       "<Figure size 1500x500 with 2 Axes>"
      ]
     },
     "metadata": {
      "needs_background": "light"
     },
     "output_type": "display_data"
    }
   ],
   "source": [
    "fig, ax = plt.subplots(1, 2, figsize=(15, 5), dpi=100)\n",
    "\n",
    "N = 3\n",
    "width = 0.1\n",
    "\n",
    "ind = np.arange(N)\n",
    "\n",
    "ax[0].bar(ind + width, lr_grid_all_scores, width, label='Grid')\n",
    "ax[0].bar(ind - width, lr_random_all_scores, width, label='Random')\n",
    "\n",
    "ax[0].set_title('Ridge Regression')\n",
    "ax[0].set_xticks(ind + width / 2)\n",
    "ax[0].set_xticklabels(('Score', 'MSE', 'MAE'))\n",
    "\n",
    "ax[0].legend()\n",
    "ax[0].autoscale_view()\n",
    "\n",
    "\n",
    "ax[1].bar(ind + width, dt_grid_all_scores, width, label='Grid')\n",
    "ax[1].bar(ind - width, dt_random_all_scores, width, label='Random')\n",
    "\n",
    "ax[1].set_title('Decision Tree')\n",
    "ax[1].set_xticks(ind + width / 2)\n",
    "ax[1].set_xticklabels(('Score', 'MSE', 'MAE'))\n",
    "\n",
    "ax[1].legend()\n",
    "ax[1].autoscale_view()\n",
    "\n",
    "\n",
    "plt.show()"
   ]
  }
 ],
 "metadata": {
  "kernelspec": {
   "display_name": "Python 3",
   "language": "python",
   "name": "python3"
  },
  "language_info": {
   "codemirror_mode": {
    "name": "ipython",
    "version": 3
   },
   "file_extension": ".py",
   "mimetype": "text/x-python",
   "name": "python",
   "nbconvert_exporter": "python",
   "pygments_lexer": "ipython3",
   "version": "3.6.0"
  }
 },
 "nbformat": 4,
 "nbformat_minor": 4
}
