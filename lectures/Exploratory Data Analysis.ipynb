{
 "cells": [
  {
   "cell_type": "markdown",
   "metadata": {},
   "source": [
    "# ID2214: Programming for Data Science\n",
    "## Exploratory Data Analysis\n",
    "### adapted from Amir Hossein A. Rahnama\n",
    "https://gits-15.sys.kth.se/amiakh/ID2214/blob/master/practical_session/Exploratory%20Data%20Analysis.ipynb"
   ]
  },
  {
   "cell_type": "markdown",
   "metadata": {},
   "source": [
    "In this tutorial, we will walk through an elementary exploratory data analysis part on a Kaggle dataset called \n",
    " [Netflix Movies and TV Shows](https://www.kaggle.com/shivamb/netflix-shows). We will show how the power of exploratory data analysis and how it can answer our questions about the dataset."
   ]
  },
  {
   "cell_type": "code",
   "execution_count": 1,
   "metadata": {},
   "outputs": [
    {
     "name": "stdout",
     "output_type": "stream",
     "text": [
      "Defaulting to user installation because normal site-packages is not writeable\n",
      "Requirement already satisfied: seaborn in c:\\users\\spycsh\\appdata\\roaming\\python\\python36\\site-packages (0.11.0)\n",
      "Requirement already satisfied: pandas>=0.23 in c:\\users\\spycsh\\appdata\\roaming\\python\\python36\\site-packages (from seaborn) (0.25.3)\n",
      "Requirement already satisfied: matplotlib>=2.2 in c:\\program files\\anaconda3\\lib\\site-packages (from seaborn) (3.3.2)\n",
      "Requirement already satisfied: scipy>=1.0 in c:\\program files\\anaconda3\\lib\\site-packages (from seaborn) (1.4.1)\n",
      "Requirement already satisfied: numpy>=1.15 in c:\\program files\\anaconda3\\lib\\site-packages (from seaborn) (1.17.0)\n",
      "Requirement already satisfied: python-dateutil>=2.6.1 in c:\\users\\spycsh\\appdata\\roaming\\python\\python36\\site-packages (from pandas>=0.23->seaborn) (2.8.1)\n",
      "Requirement already satisfied: pytz>=2017.2 in c:\\users\\spycsh\\appdata\\roaming\\python\\python36\\site-packages (from pandas>=0.23->seaborn) (2020.1)\n",
      "Requirement already satisfied: certifi>=2020.06.20 in c:\\program files\\anaconda3\\lib\\site-packages (from matplotlib>=2.2->seaborn) (2020.6.20)\n",
      "Requirement already satisfied: pillow>=6.2.0 in c:\\program files\\anaconda3\\lib\\site-packages (from matplotlib>=2.2->seaborn) (7.0.0)\n",
      "Requirement already satisfied: kiwisolver>=1.0.1 in c:\\program files\\anaconda3\\lib\\site-packages (from matplotlib>=2.2->seaborn) (1.3.1)\n",
      "Requirement already satisfied: cycler>=0.10 in c:\\program files\\anaconda3\\lib\\site-packages (from matplotlib>=2.2->seaborn) (0.10.0)\n",
      "Requirement already satisfied: pyparsing!=2.0.4,!=2.1.2,!=2.1.6,>=2.0.3 in c:\\program files\\anaconda3\\lib\\site-packages (from matplotlib>=2.2->seaborn) (2.1.4)\n",
      "Requirement already satisfied: six>=1.5 in c:\\program files\\anaconda3\\lib\\site-packages (from python-dateutil>=2.6.1->pandas>=0.23->seaborn) (1.10.0)\n",
      "Defaulting to user installation because normal site-packages is not writeable\n",
      "Requirement already satisfied: plotly in c:\\users\\spycsh\\appdata\\roaming\\python\\python36\\site-packages (4.12.0)\n",
      "Requirement already satisfied: six in c:\\program files\\anaconda3\\lib\\site-packages (from plotly) (1.10.0)\n",
      "Requirement already satisfied: retrying>=1.3.3 in c:\\users\\spycsh\\appdata\\roaming\\python\\python36\\site-packages (from plotly) (1.3.3)\n"
     ]
    }
   ],
   "source": [
    "!pip install seaborn\n",
    "!pip install plotly\n",
    "import numpy as np\n",
    "import pandas as pd\n",
    "\n",
    "#for plotting graphs\n",
    "import matplotlib.pyplot as plt\n",
    "import seaborn as sns\n",
    "sns.set_style('darkgrid')\n",
    "sns.set(font_scale=1.2)\n",
    "import plotly.express as px\n",
    "from plotly import graph_objects as go\n",
    "\n",
    "#plot wordcloud\n",
    "from collections import Counter\n",
    "from wordcloud import WordCloud\n",
    "\n",
    "#silence warnings\n",
    "import warnings\n",
    "warnings.filterwarnings('ignore')"
   ]
  },
  {
   "cell_type": "code",
   "execution_count": 2,
   "metadata": {},
   "outputs": [
    {
     "data": {
      "text/html": [
       "<div>\n",
       "<style scoped>\n",
       "    .dataframe tbody tr th:only-of-type {\n",
       "        vertical-align: middle;\n",
       "    }\n",
       "\n",
       "    .dataframe tbody tr th {\n",
       "        vertical-align: top;\n",
       "    }\n",
       "\n",
       "    .dataframe thead th {\n",
       "        text-align: right;\n",
       "    }\n",
       "</style>\n",
       "<table border=\"1\" class=\"dataframe\">\n",
       "  <thead>\n",
       "    <tr style=\"text-align: right;\">\n",
       "      <th></th>\n",
       "      <th>show_id</th>\n",
       "      <th>type</th>\n",
       "      <th>title</th>\n",
       "      <th>director</th>\n",
       "      <th>cast</th>\n",
       "      <th>country</th>\n",
       "      <th>date_added</th>\n",
       "      <th>release_year</th>\n",
       "      <th>rating</th>\n",
       "      <th>duration</th>\n",
       "      <th>listed_in</th>\n",
       "      <th>description</th>\n",
       "    </tr>\n",
       "  </thead>\n",
       "  <tbody>\n",
       "    <tr>\n",
       "      <th>0</th>\n",
       "      <td>81145628</td>\n",
       "      <td>Movie</td>\n",
       "      <td>Norm of the North: King Sized Adventure</td>\n",
       "      <td>Richard Finn, Tim Maltby</td>\n",
       "      <td>Alan Marriott, Andrew Toth, Brian Dobson, Cole...</td>\n",
       "      <td>United States, India, South Korea, China</td>\n",
       "      <td>September 9, 2019</td>\n",
       "      <td>2019</td>\n",
       "      <td>TV-PG</td>\n",
       "      <td>90 min</td>\n",
       "      <td>Children &amp; Family Movies, Comedies</td>\n",
       "      <td>Before planning an awesome wedding for his gra...</td>\n",
       "    </tr>\n",
       "    <tr>\n",
       "      <th>1</th>\n",
       "      <td>80117401</td>\n",
       "      <td>Movie</td>\n",
       "      <td>Jandino: Whatever it Takes</td>\n",
       "      <td>NaN</td>\n",
       "      <td>Jandino Asporaat</td>\n",
       "      <td>United Kingdom</td>\n",
       "      <td>September 9, 2016</td>\n",
       "      <td>2016</td>\n",
       "      <td>TV-MA</td>\n",
       "      <td>94 min</td>\n",
       "      <td>Stand-Up Comedy</td>\n",
       "      <td>Jandino Asporaat riffs on the challenges of ra...</td>\n",
       "    </tr>\n",
       "    <tr>\n",
       "      <th>2</th>\n",
       "      <td>70234439</td>\n",
       "      <td>TV Show</td>\n",
       "      <td>Transformers Prime</td>\n",
       "      <td>NaN</td>\n",
       "      <td>Peter Cullen, Sumalee Montano, Frank Welker, J...</td>\n",
       "      <td>United States</td>\n",
       "      <td>September 8, 2018</td>\n",
       "      <td>2013</td>\n",
       "      <td>TV-Y7-FV</td>\n",
       "      <td>1 Season</td>\n",
       "      <td>Kids' TV</td>\n",
       "      <td>With the help of three human allies, the Autob...</td>\n",
       "    </tr>\n",
       "    <tr>\n",
       "      <th>3</th>\n",
       "      <td>80058654</td>\n",
       "      <td>TV Show</td>\n",
       "      <td>Transformers: Robots in Disguise</td>\n",
       "      <td>NaN</td>\n",
       "      <td>Will Friedle, Darren Criss, Constance Zimmer, ...</td>\n",
       "      <td>United States</td>\n",
       "      <td>September 8, 2018</td>\n",
       "      <td>2016</td>\n",
       "      <td>TV-Y7</td>\n",
       "      <td>1 Season</td>\n",
       "      <td>Kids' TV</td>\n",
       "      <td>When a prison ship crash unleashes hundreds of...</td>\n",
       "    </tr>\n",
       "    <tr>\n",
       "      <th>4</th>\n",
       "      <td>80125979</td>\n",
       "      <td>Movie</td>\n",
       "      <td>#realityhigh</td>\n",
       "      <td>Fernando Lebrija</td>\n",
       "      <td>Nesta Cooper, Kate Walsh, John Michael Higgins...</td>\n",
       "      <td>United States</td>\n",
       "      <td>September 8, 2017</td>\n",
       "      <td>2017</td>\n",
       "      <td>TV-14</td>\n",
       "      <td>99 min</td>\n",
       "      <td>Comedies</td>\n",
       "      <td>When nerdy high schooler Dani finally attracts...</td>\n",
       "    </tr>\n",
       "    <tr>\n",
       "      <th>...</th>\n",
       "      <td>...</td>\n",
       "      <td>...</td>\n",
       "      <td>...</td>\n",
       "      <td>...</td>\n",
       "      <td>...</td>\n",
       "      <td>...</td>\n",
       "      <td>...</td>\n",
       "      <td>...</td>\n",
       "      <td>...</td>\n",
       "      <td>...</td>\n",
       "      <td>...</td>\n",
       "      <td>...</td>\n",
       "    </tr>\n",
       "    <tr>\n",
       "      <th>6229</th>\n",
       "      <td>80000063</td>\n",
       "      <td>TV Show</td>\n",
       "      <td>Red vs. Blue</td>\n",
       "      <td>NaN</td>\n",
       "      <td>Burnie Burns, Jason Saldaña, Gustavo Sorola, G...</td>\n",
       "      <td>United States</td>\n",
       "      <td>NaN</td>\n",
       "      <td>2015</td>\n",
       "      <td>NR</td>\n",
       "      <td>13 Seasons</td>\n",
       "      <td>TV Action &amp; Adventure, TV Comedies, TV Sci-Fi ...</td>\n",
       "      <td>This parody of first-person shooter games, mil...</td>\n",
       "    </tr>\n",
       "    <tr>\n",
       "      <th>6230</th>\n",
       "      <td>70286564</td>\n",
       "      <td>TV Show</td>\n",
       "      <td>Maron</td>\n",
       "      <td>NaN</td>\n",
       "      <td>Marc Maron, Judd Hirsch, Josh Brener, Nora Zeh...</td>\n",
       "      <td>United States</td>\n",
       "      <td>NaN</td>\n",
       "      <td>2016</td>\n",
       "      <td>TV-MA</td>\n",
       "      <td>4 Seasons</td>\n",
       "      <td>TV Comedies</td>\n",
       "      <td>Marc Maron stars as Marc Maron, who interviews...</td>\n",
       "    </tr>\n",
       "    <tr>\n",
       "      <th>6231</th>\n",
       "      <td>80116008</td>\n",
       "      <td>Movie</td>\n",
       "      <td>Little Baby Bum: Nursery Rhyme Friends</td>\n",
       "      <td>NaN</td>\n",
       "      <td>NaN</td>\n",
       "      <td>NaN</td>\n",
       "      <td>NaN</td>\n",
       "      <td>2016</td>\n",
       "      <td>NaN</td>\n",
       "      <td>60 min</td>\n",
       "      <td>Movies</td>\n",
       "      <td>Nursery rhymes and original music for children...</td>\n",
       "    </tr>\n",
       "    <tr>\n",
       "      <th>6232</th>\n",
       "      <td>70281022</td>\n",
       "      <td>TV Show</td>\n",
       "      <td>A Young Doctor's Notebook and Other Stories</td>\n",
       "      <td>NaN</td>\n",
       "      <td>Daniel Radcliffe, Jon Hamm, Adam Godley, Chris...</td>\n",
       "      <td>United Kingdom</td>\n",
       "      <td>NaN</td>\n",
       "      <td>2013</td>\n",
       "      <td>TV-MA</td>\n",
       "      <td>2 Seasons</td>\n",
       "      <td>British TV Shows, TV Comedies, TV Dramas</td>\n",
       "      <td>Set during the Russian Revolution, this comic ...</td>\n",
       "    </tr>\n",
       "    <tr>\n",
       "      <th>6233</th>\n",
       "      <td>70153404</td>\n",
       "      <td>TV Show</td>\n",
       "      <td>Friends</td>\n",
       "      <td>NaN</td>\n",
       "      <td>Jennifer Aniston, Courteney Cox, Lisa Kudrow, ...</td>\n",
       "      <td>United States</td>\n",
       "      <td>NaN</td>\n",
       "      <td>2003</td>\n",
       "      <td>TV-14</td>\n",
       "      <td>10 Seasons</td>\n",
       "      <td>Classic &amp; Cult TV, TV Comedies</td>\n",
       "      <td>This hit sitcom follows the merry misadventure...</td>\n",
       "    </tr>\n",
       "  </tbody>\n",
       "</table>\n",
       "<p>6234 rows × 12 columns</p>\n",
       "</div>"
      ],
      "text/plain": [
       "       show_id     type                                        title  \\\n",
       "0     81145628    Movie      Norm of the North: King Sized Adventure   \n",
       "1     80117401    Movie                   Jandino: Whatever it Takes   \n",
       "2     70234439  TV Show                           Transformers Prime   \n",
       "3     80058654  TV Show             Transformers: Robots in Disguise   \n",
       "4     80125979    Movie                                 #realityhigh   \n",
       "...        ...      ...                                          ...   \n",
       "6229  80000063  TV Show                                 Red vs. Blue   \n",
       "6230  70286564  TV Show                                        Maron   \n",
       "6231  80116008    Movie       Little Baby Bum: Nursery Rhyme Friends   \n",
       "6232  70281022  TV Show  A Young Doctor's Notebook and Other Stories   \n",
       "6233  70153404  TV Show                                      Friends   \n",
       "\n",
       "                      director  \\\n",
       "0     Richard Finn, Tim Maltby   \n",
       "1                          NaN   \n",
       "2                          NaN   \n",
       "3                          NaN   \n",
       "4             Fernando Lebrija   \n",
       "...                        ...   \n",
       "6229                       NaN   \n",
       "6230                       NaN   \n",
       "6231                       NaN   \n",
       "6232                       NaN   \n",
       "6233                       NaN   \n",
       "\n",
       "                                                   cast  \\\n",
       "0     Alan Marriott, Andrew Toth, Brian Dobson, Cole...   \n",
       "1                                      Jandino Asporaat   \n",
       "2     Peter Cullen, Sumalee Montano, Frank Welker, J...   \n",
       "3     Will Friedle, Darren Criss, Constance Zimmer, ...   \n",
       "4     Nesta Cooper, Kate Walsh, John Michael Higgins...   \n",
       "...                                                 ...   \n",
       "6229  Burnie Burns, Jason Saldaña, Gustavo Sorola, G...   \n",
       "6230  Marc Maron, Judd Hirsch, Josh Brener, Nora Zeh...   \n",
       "6231                                                NaN   \n",
       "6232  Daniel Radcliffe, Jon Hamm, Adam Godley, Chris...   \n",
       "6233  Jennifer Aniston, Courteney Cox, Lisa Kudrow, ...   \n",
       "\n",
       "                                       country         date_added  \\\n",
       "0     United States, India, South Korea, China  September 9, 2019   \n",
       "1                               United Kingdom  September 9, 2016   \n",
       "2                                United States  September 8, 2018   \n",
       "3                                United States  September 8, 2018   \n",
       "4                                United States  September 8, 2017   \n",
       "...                                        ...                ...   \n",
       "6229                             United States                NaN   \n",
       "6230                             United States                NaN   \n",
       "6231                                       NaN                NaN   \n",
       "6232                            United Kingdom                NaN   \n",
       "6233                             United States                NaN   \n",
       "\n",
       "      release_year    rating    duration  \\\n",
       "0             2019     TV-PG      90 min   \n",
       "1             2016     TV-MA      94 min   \n",
       "2             2013  TV-Y7-FV    1 Season   \n",
       "3             2016     TV-Y7    1 Season   \n",
       "4             2017     TV-14      99 min   \n",
       "...            ...       ...         ...   \n",
       "6229          2015        NR  13 Seasons   \n",
       "6230          2016     TV-MA   4 Seasons   \n",
       "6231          2016       NaN      60 min   \n",
       "6232          2013     TV-MA   2 Seasons   \n",
       "6233          2003     TV-14  10 Seasons   \n",
       "\n",
       "                                              listed_in  \\\n",
       "0                    Children & Family Movies, Comedies   \n",
       "1                                       Stand-Up Comedy   \n",
       "2                                              Kids' TV   \n",
       "3                                              Kids' TV   \n",
       "4                                              Comedies   \n",
       "...                                                 ...   \n",
       "6229  TV Action & Adventure, TV Comedies, TV Sci-Fi ...   \n",
       "6230                                        TV Comedies   \n",
       "6231                                             Movies   \n",
       "6232           British TV Shows, TV Comedies, TV Dramas   \n",
       "6233                     Classic & Cult TV, TV Comedies   \n",
       "\n",
       "                                            description  \n",
       "0     Before planning an awesome wedding for his gra...  \n",
       "1     Jandino Asporaat riffs on the challenges of ra...  \n",
       "2     With the help of three human allies, the Autob...  \n",
       "3     When a prison ship crash unleashes hundreds of...  \n",
       "4     When nerdy high schooler Dani finally attracts...  \n",
       "...                                                 ...  \n",
       "6229  This parody of first-person shooter games, mil...  \n",
       "6230  Marc Maron stars as Marc Maron, who interviews...  \n",
       "6231  Nursery rhymes and original music for children...  \n",
       "6232  Set during the Russian Revolution, this comic ...  \n",
       "6233  This hit sitcom follows the merry misadventure...  \n",
       "\n",
       "[6234 rows x 12 columns]"
      ]
     },
     "execution_count": 2,
     "metadata": {},
     "output_type": "execute_result"
    }
   ],
   "source": [
    "netflix_overall = pd.read_csv('./data/netflix_titles.csv')\n",
    "netflix_overall"
   ]
  },
  {
   "cell_type": "code",
   "execution_count": 3,
   "metadata": {},
   "outputs": [
    {
     "data": {
      "text/plain": [
       "show_id          int64\n",
       "type            object\n",
       "title           object\n",
       "director        object\n",
       "cast            object\n",
       "country         object\n",
       "date_added      object\n",
       "release_year     int64\n",
       "rating          object\n",
       "duration        object\n",
       "listed_in       object\n",
       "description     object\n",
       "dtype: object"
      ]
     },
     "execution_count": 3,
     "metadata": {},
     "output_type": "execute_result"
    }
   ],
   "source": [
    "netflix_overall.dtypes"
   ]
  },
  {
   "cell_type": "markdown",
   "metadata": {},
   "source": [
    "#### First, let us see how the dataset is distributed between movies and TV shows:"
   ]
  },
  {
   "cell_type": "code",
   "execution_count": 4,
   "metadata": {
    "collapsed": true
   },
   "outputs": [],
   "source": [
    "netflix_shows=netflix_overall[netflix_overall['type']=='TV Show']\n",
    "netflix_movies=netflix_overall[netflix_overall['type']=='Movie']"
   ]
  },
  {
   "cell_type": "code",
   "execution_count": 5,
   "metadata": {},
   "outputs": [
    {
     "data": {
      "image/png": "[encoded data removed]",
      "text/plain": [
       "<Figure size 432x288 with 1 Axes>"
      ]
     },
     "metadata": {},
     "output_type": "display_data"
    }
   ],
   "source": [
    "sns.set(style=\"darkgrid\")\n",
    "ax = sns.countplot(x=\"type\", data=netflix_overall, palette=\"Set2\")\n",
    "plt.show()"
   ]
  },
  {
   "cell_type": "markdown",
   "metadata": {},
   "source": [
    "After that let us create a heatmap of when these movies and tv shows were added to the Netflix database:"
   ]
  },
  {
   "cell_type": "code",
   "execution_count": 6,
   "metadata": {},
   "outputs": [
    {
     "data": {
      "image/png": "[encoded data removed]",
      "text/plain": [
       "<Figure size 1200x700 with 2 Axes>"
      ]
     },
     "metadata": {},
     "output_type": "display_data"
    }
   ],
   "source": [
    "# use dataframe[['']] to get one column dataframe;\n",
    "netflix_date = netflix_shows[['date_added']].dropna()\n",
    "netflix_date['year'] = netflix_date['date_added'].apply(lambda x : x.split(', ')[-1])\n",
    "netflix_date['month'] = netflix_date['date_added'].apply(lambda x : x.lstrip().split(' ')[0])\n",
    "\n",
    "month_order = ['January', 'February', 'March', 'April', 'May', 'June', 'July', 'August', 'September', 'October', 'November', 'December'][::-1]\n",
    "df = netflix_date.groupby('year')['month'].value_counts().unstack().fillna(0)[month_order].T\n",
    "plt.figure(figsize=(12, 7), dpi=100)\n",
    "plt.pcolor(df, cmap='afmhot_r', edgecolors='white', linewidths=2) # heatmap\n",
    "plt.xticks(np.arange(0.5, len(df.columns), 1), df.columns, fontsize=7, fontfamily='serif')\n",
    "plt.yticks(np.arange(0.5, len(df.index), 1), df.index, fontsize=7, fontfamily='serif')\n",
    "\n",
    "plt.title('Netflix Contents Update', fontsize=12, fontfamily='calibri', fontweight='bold', position=(0.20, 1.0+0.02))\n",
    "cbar = plt.colorbar()\n",
    "\n",
    "cbar.ax.tick_params(labelsize=8) \n",
    "cbar.ax.minorticks_on()\n",
    "plt.show()"
   ]
  },
  {
   "cell_type": "markdown",
   "metadata": {},
   "source": [
    "#### What type of movie/tv show ratings exist in the database:"
   ]
  },
  {
   "cell_type": "code",
   "execution_count": 7,
   "metadata": {},
   "outputs": [
    {
     "data": {
      "image/png": "[encoded data removed]",
      "text/plain": [
       "<Figure size 864x720 with 1 Axes>"
      ]
     },
     "metadata": {},
     "output_type": "display_data"
    }
   ],
   "source": [
    "plt.figure(figsize=(12,10))\n",
    "sns.set(style=\"darkgrid\")\n",
    "# print(netflix_movies['rating'].value_counts().index[0:15])\n",
    "ax = sns.countplot(x=\"rating\", data=netflix_movies, palette=\"Set2\", order=netflix_movies['rating'].value_counts().index[0:15])\n",
    "plt.show()"
   ]
  },
  {
   "cell_type": "markdown",
   "metadata": {},
   "source": [
    "### Merging data sources"
   ]
  },
  {
   "cell_type": "markdown",
   "metadata": {},
   "source": [
    "In many cases, you would like to extend the data source you have using common shared keys or data points. Imagine two data sources about countries and you would like to get information from all of them. "
   ]
  },
  {
   "cell_type": "code",
   "execution_count": 8,
   "metadata": {},
   "outputs": [
    {
     "ename": "FileNotFoundError",
     "evalue": "[Errno 2] File b'./data/IMDb ratings.csv' does not exist: b'./data/IMDb ratings.csv'",
     "output_type": "error",
     "traceback": [
      "\u001b[1;31m---------------------------------------------------------------------------\u001b[0m",
      "\u001b[1;31mFileNotFoundError\u001b[0m                         Traceback (most recent call last)",
      "\u001b[1;32m<ipython-input-8-4f5acf7e5e05>\u001b[0m in \u001b[0;36m<module>\u001b[1;34m()\u001b[0m\n\u001b[1;32m----> 1\u001b[1;33m \u001b[0mimdb_ratings\u001b[0m\u001b[1;33m=\u001b[0m\u001b[0mpd\u001b[0m\u001b[1;33m.\u001b[0m\u001b[0mread_csv\u001b[0m\u001b[1;33m(\u001b[0m\u001b[1;34m'./data/IMDb ratings.csv'\u001b[0m\u001b[1;33m,\u001b[0m\u001b[0musecols\u001b[0m\u001b[1;33m=\u001b[0m\u001b[1;33m[\u001b[0m\u001b[1;34m'weighted_average_vote'\u001b[0m\u001b[1;33m]\u001b[0m\u001b[1;33m)\u001b[0m\u001b[1;33m\u001b[0m\u001b[0m\n\u001b[0m\u001b[0;32m      2\u001b[0m \u001b[0mimdb_titles\u001b[0m\u001b[1;33m=\u001b[0m\u001b[0mpd\u001b[0m\u001b[1;33m.\u001b[0m\u001b[0mread_csv\u001b[0m\u001b[1;33m(\u001b[0m\u001b[1;34m'./data/IMDb movies.csv'\u001b[0m\u001b[1;33m,\u001b[0m \u001b[0musecols\u001b[0m\u001b[1;33m=\u001b[0m\u001b[1;33m[\u001b[0m\u001b[1;34m'title'\u001b[0m\u001b[1;33m,\u001b[0m\u001b[1;34m'year'\u001b[0m\u001b[1;33m,\u001b[0m\u001b[1;34m'genre'\u001b[0m\u001b[1;33m]\u001b[0m\u001b[1;33m)\u001b[0m\u001b[1;33m\u001b[0m\u001b[0m\n\u001b[0;32m      3\u001b[0m ratings = pd.DataFrame({'Title':imdb_titles.title,\n\u001b[0;32m      4\u001b[0m                     \u001b[1;34m'Release Year'\u001b[0m\u001b[1;33m:\u001b[0m\u001b[0mimdb_titles\u001b[0m\u001b[1;33m.\u001b[0m\u001b[0myear\u001b[0m\u001b[1;33m,\u001b[0m\u001b[1;33m\u001b[0m\u001b[0m\n\u001b[0;32m      5\u001b[0m                     \u001b[1;34m'Rating'\u001b[0m\u001b[1;33m:\u001b[0m \u001b[0mimdb_ratings\u001b[0m\u001b[1;33m.\u001b[0m\u001b[0mweighted_average_vote\u001b[0m\u001b[1;33m,\u001b[0m\u001b[1;33m\u001b[0m\u001b[0m\n",
      "\u001b[1;32m~\\AppData\\Roaming\\Python\\Python36\\site-packages\\pandas\\io\\parsers.py\u001b[0m in \u001b[0;36mparser_f\u001b[1;34m(filepath_or_buffer, sep, delimiter, header, names, index_col, usecols, squeeze, prefix, mangle_dupe_cols, dtype, engine, converters, true_values, false_values, skipinitialspace, skiprows, skipfooter, nrows, na_values, keep_default_na, na_filter, verbose, skip_blank_lines, parse_dates, infer_datetime_format, keep_date_col, date_parser, dayfirst, cache_dates, iterator, chunksize, compression, thousands, decimal, lineterminator, quotechar, quoting, doublequote, escapechar, comment, encoding, dialect, error_bad_lines, warn_bad_lines, delim_whitespace, low_memory, memory_map, float_precision)\u001b[0m\n\u001b[0;32m    683\u001b[0m         )\n\u001b[0;32m    684\u001b[0m \u001b[1;33m\u001b[0m\u001b[0m\n\u001b[1;32m--> 685\u001b[1;33m         \u001b[1;32mreturn\u001b[0m \u001b[0m_read\u001b[0m\u001b[1;33m(\u001b[0m\u001b[0mfilepath_or_buffer\u001b[0m\u001b[1;33m,\u001b[0m \u001b[0mkwds\u001b[0m\u001b[1;33m)\u001b[0m\u001b[1;33m\u001b[0m\u001b[0m\n\u001b[0m\u001b[0;32m    686\u001b[0m \u001b[1;33m\u001b[0m\u001b[0m\n\u001b[0;32m    687\u001b[0m     \u001b[0mparser_f\u001b[0m\u001b[1;33m.\u001b[0m\u001b[0m__name__\u001b[0m \u001b[1;33m=\u001b[0m \u001b[0mname\u001b[0m\u001b[1;33m\u001b[0m\u001b[0m\n",
      "\u001b[1;32m~\\AppData\\Roaming\\Python\\Python36\\site-packages\\pandas\\io\\parsers.py\u001b[0m in \u001b[0;36m_read\u001b[1;34m(filepath_or_buffer, kwds)\u001b[0m\n\u001b[0;32m    455\u001b[0m \u001b[1;33m\u001b[0m\u001b[0m\n\u001b[0;32m    456\u001b[0m     \u001b[1;31m# Create the parser.\u001b[0m\u001b[1;33m\u001b[0m\u001b[1;33m\u001b[0m\u001b[0m\n\u001b[1;32m--> 457\u001b[1;33m     \u001b[0mparser\u001b[0m \u001b[1;33m=\u001b[0m \u001b[0mTextFileReader\u001b[0m\u001b[1;33m(\u001b[0m\u001b[0mfp_or_buf\u001b[0m\u001b[1;33m,\u001b[0m \u001b[1;33m**\u001b[0m\u001b[0mkwds\u001b[0m\u001b[1;33m)\u001b[0m\u001b[1;33m\u001b[0m\u001b[0m\n\u001b[0m\u001b[0;32m    458\u001b[0m \u001b[1;33m\u001b[0m\u001b[0m\n\u001b[0;32m    459\u001b[0m     \u001b[1;32mif\u001b[0m \u001b[0mchunksize\u001b[0m \u001b[1;32mor\u001b[0m \u001b[0miterator\u001b[0m\u001b[1;33m:\u001b[0m\u001b[1;33m\u001b[0m\u001b[0m\n",
      "\u001b[1;32m~\\AppData\\Roaming\\Python\\Python36\\site-packages\\pandas\\io\\parsers.py\u001b[0m in \u001b[0;36m__init__\u001b[1;34m(self, f, engine, **kwds)\u001b[0m\n\u001b[0;32m    893\u001b[0m             \u001b[0mself\u001b[0m\u001b[1;33m.\u001b[0m\u001b[0moptions\u001b[0m\u001b[1;33m[\u001b[0m\u001b[1;34m\"has_index_names\"\u001b[0m\u001b[1;33m]\u001b[0m \u001b[1;33m=\u001b[0m \u001b[0mkwds\u001b[0m\u001b[1;33m[\u001b[0m\u001b[1;34m\"has_index_names\"\u001b[0m\u001b[1;33m]\u001b[0m\u001b[1;33m\u001b[0m\u001b[0m\n\u001b[0;32m    894\u001b[0m \u001b[1;33m\u001b[0m\u001b[0m\n\u001b[1;32m--> 895\u001b[1;33m         \u001b[0mself\u001b[0m\u001b[1;33m.\u001b[0m\u001b[0m_make_engine\u001b[0m\u001b[1;33m(\u001b[0m\u001b[0mself\u001b[0m\u001b[1;33m.\u001b[0m\u001b[0mengine\u001b[0m\u001b[1;33m)\u001b[0m\u001b[1;33m\u001b[0m\u001b[0m\n\u001b[0m\u001b[0;32m    896\u001b[0m \u001b[1;33m\u001b[0m\u001b[0m\n\u001b[0;32m    897\u001b[0m     \u001b[1;32mdef\u001b[0m \u001b[0mclose\u001b[0m\u001b[1;33m(\u001b[0m\u001b[0mself\u001b[0m\u001b[1;33m)\u001b[0m\u001b[1;33m:\u001b[0m\u001b[1;33m\u001b[0m\u001b[0m\n",
      "\u001b[1;32m~\\AppData\\Roaming\\Python\\Python36\\site-packages\\pandas\\io\\parsers.py\u001b[0m in \u001b[0;36m_make_engine\u001b[1;34m(self, engine)\u001b[0m\n\u001b[0;32m   1133\u001b[0m     \u001b[1;32mdef\u001b[0m \u001b[0m_make_engine\u001b[0m\u001b[1;33m(\u001b[0m\u001b[0mself\u001b[0m\u001b[1;33m,\u001b[0m \u001b[0mengine\u001b[0m\u001b[1;33m=\u001b[0m\u001b[1;34m\"c\"\u001b[0m\u001b[1;33m)\u001b[0m\u001b[1;33m:\u001b[0m\u001b[1;33m\u001b[0m\u001b[0m\n\u001b[0;32m   1134\u001b[0m         \u001b[1;32mif\u001b[0m \u001b[0mengine\u001b[0m \u001b[1;33m==\u001b[0m \u001b[1;34m\"c\"\u001b[0m\u001b[1;33m:\u001b[0m\u001b[1;33m\u001b[0m\u001b[0m\n\u001b[1;32m-> 1135\u001b[1;33m             \u001b[0mself\u001b[0m\u001b[1;33m.\u001b[0m\u001b[0m_engine\u001b[0m \u001b[1;33m=\u001b[0m \u001b[0mCParserWrapper\u001b[0m\u001b[1;33m(\u001b[0m\u001b[0mself\u001b[0m\u001b[1;33m.\u001b[0m\u001b[0mf\u001b[0m\u001b[1;33m,\u001b[0m \u001b[1;33m**\u001b[0m\u001b[0mself\u001b[0m\u001b[1;33m.\u001b[0m\u001b[0moptions\u001b[0m\u001b[1;33m)\u001b[0m\u001b[1;33m\u001b[0m\u001b[0m\n\u001b[0m\u001b[0;32m   1136\u001b[0m         \u001b[1;32melse\u001b[0m\u001b[1;33m:\u001b[0m\u001b[1;33m\u001b[0m\u001b[0m\n\u001b[0;32m   1137\u001b[0m             \u001b[1;32mif\u001b[0m \u001b[0mengine\u001b[0m \u001b[1;33m==\u001b[0m \u001b[1;34m\"python\"\u001b[0m\u001b[1;33m:\u001b[0m\u001b[1;33m\u001b[0m\u001b[0m\n",
      "\u001b[1;32m~\\AppData\\Roaming\\Python\\Python36\\site-packages\\pandas\\io\\parsers.py\u001b[0m in \u001b[0;36m__init__\u001b[1;34m(self, src, **kwds)\u001b[0m\n\u001b[0;32m   1915\u001b[0m         \u001b[0mkwds\u001b[0m\u001b[1;33m[\u001b[0m\u001b[1;34m\"usecols\"\u001b[0m\u001b[1;33m]\u001b[0m \u001b[1;33m=\u001b[0m \u001b[0mself\u001b[0m\u001b[1;33m.\u001b[0m\u001b[0musecols\u001b[0m\u001b[1;33m\u001b[0m\u001b[0m\n\u001b[0;32m   1916\u001b[0m \u001b[1;33m\u001b[0m\u001b[0m\n\u001b[1;32m-> 1917\u001b[1;33m         \u001b[0mself\u001b[0m\u001b[1;33m.\u001b[0m\u001b[0m_reader\u001b[0m \u001b[1;33m=\u001b[0m \u001b[0mparsers\u001b[0m\u001b[1;33m.\u001b[0m\u001b[0mTextReader\u001b[0m\u001b[1;33m(\u001b[0m\u001b[0msrc\u001b[0m\u001b[1;33m,\u001b[0m \u001b[1;33m**\u001b[0m\u001b[0mkwds\u001b[0m\u001b[1;33m)\u001b[0m\u001b[1;33m\u001b[0m\u001b[0m\n\u001b[0m\u001b[0;32m   1918\u001b[0m         \u001b[0mself\u001b[0m\u001b[1;33m.\u001b[0m\u001b[0munnamed_cols\u001b[0m \u001b[1;33m=\u001b[0m \u001b[0mself\u001b[0m\u001b[1;33m.\u001b[0m\u001b[0m_reader\u001b[0m\u001b[1;33m.\u001b[0m\u001b[0munnamed_cols\u001b[0m\u001b[1;33m\u001b[0m\u001b[0m\n\u001b[0;32m   1919\u001b[0m \u001b[1;33m\u001b[0m\u001b[0m\n",
      "\u001b[1;32mpandas/_libs/parsers.pyx\u001b[0m in \u001b[0;36mpandas._libs.parsers.TextReader.__cinit__\u001b[1;34m()\u001b[0m\n",
      "\u001b[1;32mpandas/_libs/parsers.pyx\u001b[0m in \u001b[0;36mpandas._libs.parsers.TextReader._setup_parser_source\u001b[1;34m()\u001b[0m\n",
      "\u001b[1;31mFileNotFoundError\u001b[0m: [Errno 2] File b'./data/IMDb ratings.csv' does not exist: b'./data/IMDb ratings.csv'"
     ]
    }
   ],
   "source": [
    "imdb_ratings=pd.read_csv('./data/IMDb ratings.csv',usecols=['weighted_average_vote'])\n",
    "imdb_titles=pd.read_csv('./data/IMDb movies.csv', usecols=['title','year','genre'])\n",
    "ratings = pd.DataFrame({'Title':imdb_titles.title,\n",
    "                    'Release Year':imdb_titles.year,\n",
    "                    'Rating': imdb_ratings.weighted_average_vote,\n",
    "                    'Genre':imdb_titles.genre})\n",
    "ratings.drop_duplicates(subset=['Title','Release Year','Rating'], inplace=True)\n",
    "ratings.shape"
   ]
  },
  {
   "cell_type": "code",
   "execution_count": null,
   "metadata": {},
   "outputs": [],
   "source": [
    "ratings.head()"
   ]
  },
  {
   "cell_type": "markdown",
   "metadata": {},
   "source": [
    "There are many ways to merge data sources, here is a view of different strategies:"
   ]
  },
  {
   "cell_type": "markdown",
   "metadata": {},
   "source": [
    "<img width=\"500\" height=\"500\" src='https://miro.medium.com/max/1200/1*9eH1_7VbTZPZd9jBiGIyNA.png'>"
   ]
  },
  {
   "cell_type": "markdown",
   "metadata": {},
   "source": [
    "Source: https://medium.com/swlh/merging-dataframes-with-pandas-pd-merge-7764c7e2d46d"
   ]
  },
  {
   "cell_type": "code",
   "execution_count": null,
   "metadata": {
    "collapsed": true
   },
   "outputs": [],
   "source": [
    "ratings.dropna()\n",
    "joint_data=ratings.merge(netflix_overall, left_on='Title', right_on='title', how='inner')\n",
    "joint_data=joint_data.sort_values(by='Rating', ascending=False)"
   ]
  },
  {
   "cell_type": "code",
   "execution_count": null,
   "metadata": {},
   "outputs": [],
   "source": [
    "netflix_overall.count()"
   ]
  },
  {
   "cell_type": "code",
   "execution_count": null,
   "metadata": {},
   "outputs": [],
   "source": [
    "joint_data.count()"
   ]
  },
  {
   "cell_type": "markdown",
   "metadata": {},
   "source": [
    "Let us try to find out the countries with the highest number of films in the Netflix datasource: "
   ]
  },
  {
   "cell_type": "code",
   "execution_count": null,
   "metadata": {},
   "outputs": [],
   "source": [
    "country_count=joint_data['country'].value_counts().sort_values(ascending=False)\n",
    "country_count=pd.DataFrame(country_count)\n",
    "topcountries=country_count[0:11]\n",
    "topcountries"
   ]
  },
  {
   "cell_type": "code",
   "execution_count": null,
   "metadata": {},
   "outputs": [],
   "source": [
    "plt.figure(figsize=(12,10))\n",
    "sns.set(style=\"darkgrid\")\n",
    "ax = sns.countplot(y=\"release_year\", data=netflix_movies, palette=\"Set2\", order=netflix_movies['release_year'].value_counts().index[0:15])"
   ]
  },
  {
   "cell_type": "code",
   "execution_count": null,
   "metadata": {
    "collapsed": true
   },
   "outputs": [],
   "source": [
    "countries={}\n",
    "netflix_movies['country']=netflix_movies['country'].fillna('Unknown')\n",
    "cou=list(netflix_movies['country'])\n",
    "for i in cou:\n",
    "    i=list(i.split(','))\n",
    "    if len(i)==1:\n",
    "        if i in list(countries.keys()):\n",
    "            countries[i]+=1\n",
    "        else:\n",
    "            countries[i[0]]=1\n",
    "    else:\n",
    "        for j in i:\n",
    "            if j in list(countries.keys()):\n",
    "                countries[j]+=1\n",
    "            else:\n",
    "                countries[j]=1"
   ]
  },
  {
   "cell_type": "code",
   "execution_count": null,
   "metadata": {
    "collapsed": true
   },
   "outputs": [],
   "source": [
    "countries_fin={}\n",
    "for country,no in countries.items():\n",
    "    country=country.replace(' ','')\n",
    "    if country in list(countries_fin.keys()):\n",
    "        countries_fin[country]+=no\n",
    "    else:\n",
    "        countries_fin[country]=no\n",
    "        \n",
    "countries_fin={k: v for k, v in sorted(countries_fin.items(), key=lambda item: item[1], reverse= True)}\n"
   ]
  },
  {
   "cell_type": "code",
   "execution_count": null,
   "metadata": {},
   "outputs": [],
   "source": [
    "plt.figure(figsize=(8,8))\n",
    "ax = sns.barplot(x=list(countries_fin.keys())[0:10],y=list(countries_fin.values())[0:10])\n",
    "ax.set_xticklabels(list(countries_fin.keys())[0:10],rotation = 90)\n",
    "plt.show()"
   ]
  },
  {
   "cell_type": "markdown",
   "metadata": {},
   "source": [
    "Another interesting question might be to look at how long is each movie in the datasource:"
   ]
  },
  {
   "cell_type": "code",
   "execution_count": null,
   "metadata": {
    "collapsed": true
   },
   "outputs": [],
   "source": [
    "netflix_movies['duration']=netflix_movies['duration'].str.replace(' min','')\n",
    "netflix_movies['duration']=netflix_movies['duration'].astype(str).astype(int)"
   ]
  },
  {
   "cell_type": "code",
   "execution_count": null,
   "metadata": {},
   "outputs": [],
   "source": [
    "sns.set(style=\"darkgrid\")\n",
    "sns.kdeplot(data=netflix_movies['duration'], shade=True)\n",
    "plt.show()"
   ]
  },
  {
   "cell_type": "markdown",
   "metadata": {},
   "source": [
    "Using the power of wordclouds we can highlight visually which genres are most popular among movies? "
   ]
  },
  {
   "cell_type": "code",
   "execution_count": null,
   "metadata": {
    "collapsed": true
   },
   "outputs": [],
   "source": [
    "from collections import Counter\n",
    "\n",
    "genres=list(netflix_movies['listed_in'])\n",
    "gen=[]\n",
    "\n",
    "for i in genres:\n",
    "    i=list(i.split(','))\n",
    "    for j in i:\n",
    "        gen.append(j.replace(' ',\"\"))\n",
    "g=Counter(gen)"
   ]
  },
  {
   "cell_type": "code",
   "execution_count": null,
   "metadata": {},
   "outputs": [],
   "source": [
    "from wordcloud import WordCloud, STOPWORDS, ImageColorGenerator\n",
    "\n",
    "text = list(set(gen))\n",
    "plt.rcParams['figure.figsize'] = (13, 13)\n",
    "wordcloud = WordCloud(max_font_size=50, max_words=100,background_color=\"white\").generate(str(text))\n",
    "\n",
    "plt.imshow(wordcloud,interpolation=\"bilinear\")\n",
    "plt.axis(\"off\")\n",
    "plt.show()"
   ]
  },
  {
   "cell_type": "code",
   "execution_count": null,
   "metadata": {},
   "outputs": [],
   "source": [
    "names = list(g.keys())\n",
    "values = list(g.values())\n",
    "\n",
    "fig, axs = plt.subplots(1, 1, figsize=(12, 7), sharey=True)\n",
    "axs.bar(np.arange(len(names)), values)\n",
    "axs.set_xticks(np.arange(len(names)))\n",
    "axs.set_xticklabels(names, rotation = 90)\n",
    "axs.set_title('Categorical Plotting')\n",
    "plt.show()"
   ]
  },
  {
   "cell_type": "code",
   "execution_count": null,
   "metadata": {
    "collapsed": true
   },
   "outputs": [],
   "source": [
    "features=['title','duration']\n",
    "durations= netflix_shows[features]\n",
    "\n",
    "durations['no_of_seasons'] = durations['duration'].str.replace(' Season','')\n",
    "\n",
    "durations['no_of_seasons'] = durations['no_of_seasons'].str.replace('s','')"
   ]
  },
  {
   "cell_type": "code",
   "execution_count": null,
   "metadata": {
    "collapsed": true
   },
   "outputs": [],
   "source": [
    "durations['no_of_seasons']=durations['no_of_seasons'].astype(str).astype(int)"
   ]
  },
  {
   "cell_type": "code",
   "execution_count": null,
   "metadata": {
    "collapsed": true
   },
   "outputs": [],
   "source": [
    "t=['title','no_of_seasons']\n",
    "\n",
    "top=durations[t]\n",
    "\n",
    "top=top.sort_values(by='no_of_seasons', ascending=False)"
   ]
  },
  {
   "cell_type": "code",
   "execution_count": null,
   "metadata": {},
   "outputs": [],
   "source": [
    "top20=top[0:20]\n",
    "top20.plot(kind='bar',x='title',y='no_of_seasons', color='red')\n",
    "plt.show()"
   ]
  },
  {
   "cell_type": "markdown",
   "metadata": {},
   "source": [
    "We can ask what are the popular genres of the tv shows: "
   ]
  },
  {
   "cell_type": "code",
   "execution_count": null,
   "metadata": {},
   "outputs": [],
   "source": [
    "from wordcloud import WordCloud, STOPWORDS, ImageColorGenerator\n",
    "\n",
    "text = list(set(gen))\n",
    "\n",
    "wordcloud = WordCloud(max_font_size=50, max_words=100,background_color=\"black\").generate(str(text))\n",
    "plt.rcParams['figure.figsize'] = (13, 13)\n",
    "plt.imshow(wordcloud,interpolation=\"bilinear\")\n",
    "plt.axis(\"off\")\n",
    "plt.show()"
   ]
  },
  {
   "cell_type": "markdown",
   "metadata": {},
   "source": [
    "Filtered on the country, what are the oldest TV shows on Netflix?"
   ]
  },
  {
   "cell_type": "code",
   "execution_count": null,
   "metadata": {
    "collapsed": true
   },
   "outputs": [],
   "source": [
    "us_series_data=netflix_shows[netflix_shows['country']=='United States']"
   ]
  },
  {
   "cell_type": "code",
   "execution_count": null,
   "metadata": {
    "collapsed": true
   },
   "outputs": [],
   "source": [
    "oldest_us_series=us_series_data.sort_values(by='release_year')[0:20]"
   ]
  },
  {
   "cell_type": "code",
   "execution_count": null,
   "metadata": {},
   "outputs": [],
   "source": [
    "oldest_us_series['title']"
   ]
  },
  {
   "cell_type": "markdown",
   "metadata": {},
   "source": [
    "and similarly the newest:"
   ]
  },
  {
   "cell_type": "code",
   "execution_count": null,
   "metadata": {
    "collapsed": true
   },
   "outputs": [],
   "source": [
    "newest_us_series=us_series_data.sort_values(by='release_year', ascending=False)[0:20]"
   ]
  },
  {
   "cell_type": "code",
   "execution_count": null,
   "metadata": {},
   "outputs": [],
   "source": [
    "newest_us_series['title']"
   ]
  },
  {
   "cell_type": "markdown",
   "metadata": {},
   "source": [
    "So I hope that you got a basic understanding of the process of exploratory data analysis with this tutorial and it can prepare you for your real projects."
   ]
  },
  {
   "cell_type": "code",
   "execution_count": null,
   "metadata": {
    "collapsed": true
   },
   "outputs": [],
   "source": []
  }
 ],
 "metadata": {
  "kernelspec": {
   "display_name": "Python 3",
   "language": "python",
   "name": "python3"
  },
  "language_info": {
   "codemirror_mode": {
    "name": "ipython",
    "version": 3
   },
   "file_extension": ".py",
   "mimetype": "text/x-python",
   "name": "python",
   "nbconvert_exporter": "python",
   "pygments_lexer": "ipython3",
   "version": "3.6.0"
  }
 },
 "nbformat": 4,
 "nbformat_minor": 4
}
