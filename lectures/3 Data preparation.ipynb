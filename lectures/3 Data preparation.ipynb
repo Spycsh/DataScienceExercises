{
 "cells": [
  {
   "cell_type": "markdown",
   "metadata": {},
   "source": [
    "## Data preparation"
   ]
  },
  {
   "cell_type": "code",
   "execution_count": 1,
   "metadata": {
    "collapsed": true
   },
   "outputs": [],
   "source": [
    "import numpy as np\n",
    "import pandas as pd"
   ]
  },
  {
   "cell_type": "code",
   "execution_count": 2,
   "metadata": {
    "collapsed": true
   },
   "outputs": [],
   "source": [
    "# Handling Missing Values in DataFrames"
   ]
  },
  {
   "cell_type": "code",
   "execution_count": 3,
   "metadata": {},
   "outputs": [
    {
     "data": {
      "text/html": [
       "<div>\n",
       "<style scoped>\n",
       "    .dataframe tbody tr th:only-of-type {\n",
       "        vertical-align: middle;\n",
       "    }\n",
       "\n",
       "    .dataframe tbody tr th {\n",
       "        vertical-align: top;\n",
       "    }\n",
       "\n",
       "    .dataframe thead th {\n",
       "        text-align: right;\n",
       "    }\n",
       "</style>\n",
       "<table border=\"1\" class=\"dataframe\">\n",
       "  <thead>\n",
       "    <tr style=\"text-align: right;\">\n",
       "      <th></th>\n",
       "      <th>award</th>\n",
       "      <th>grade</th>\n",
       "      <th>id</th>\n",
       "    </tr>\n",
       "  </thead>\n",
       "  <tbody>\n",
       "    <tr>\n",
       "      <th>0</th>\n",
       "      <td>NaN</td>\n",
       "      <td>NaN</td>\n",
       "      <td>NaN</td>\n",
       "    </tr>\n",
       "    <tr>\n",
       "      <th>1</th>\n",
       "      <td>gold</td>\n",
       "      <td>b</td>\n",
       "      <td>2.0</td>\n",
       "    </tr>\n",
       "    <tr>\n",
       "      <th>2</th>\n",
       "      <td>silver</td>\n",
       "      <td>NaN</td>\n",
       "      <td>3.0</td>\n",
       "    </tr>\n",
       "    <tr>\n",
       "      <th>3</th>\n",
       "      <td>bronze</td>\n",
       "      <td>c</td>\n",
       "      <td>4.0</td>\n",
       "    </tr>\n",
       "    <tr>\n",
       "      <th>4</th>\n",
       "      <td>NaN</td>\n",
       "      <td>NaN</td>\n",
       "      <td>5.0</td>\n",
       "    </tr>\n",
       "  </tbody>\n",
       "</table>\n",
       "</div>"
      ],
      "text/plain": [
       "    award grade   id\n",
       "0     NaN   NaN  NaN\n",
       "1    gold     b  2.0\n",
       "2  silver   NaN  3.0\n",
       "3  bronze     c  4.0\n",
       "4     NaN   NaN  5.0"
      ]
     },
     "metadata": {},
     "output_type": "display_data"
    }
   ],
   "source": [
    "df = pd.DataFrame({\"id\":[np.nan,2,3,4,5],\"grade\":[np.nan,\"b\",np.nan,\"c\",np.nan],\n",
    "                   \"award\":[np.nan, \"gold\", \"silver\",\"bronze\", np.nan]})\n",
    "display(df)"
   ]
  },
  {
   "cell_type": "code",
   "execution_count": 4,
   "metadata": {},
   "outputs": [
    {
     "data": {
      "text/html": [
       "<div>\n",
       "<style scoped>\n",
       "    .dataframe tbody tr th:only-of-type {\n",
       "        vertical-align: middle;\n",
       "    }\n",
       "\n",
       "    .dataframe tbody tr th {\n",
       "        vertical-align: top;\n",
       "    }\n",
       "\n",
       "    .dataframe thead th {\n",
       "        text-align: right;\n",
       "    }\n",
       "</style>\n",
       "<table border=\"1\" class=\"dataframe\">\n",
       "  <thead>\n",
       "    <tr style=\"text-align: right;\">\n",
       "      <th></th>\n",
       "      <th>award</th>\n",
       "      <th>grade</th>\n",
       "      <th>id</th>\n",
       "    </tr>\n",
       "  </thead>\n",
       "  <tbody>\n",
       "    <tr>\n",
       "      <th>1</th>\n",
       "      <td>gold</td>\n",
       "      <td>b</td>\n",
       "      <td>2.0</td>\n",
       "    </tr>\n",
       "    <tr>\n",
       "      <th>3</th>\n",
       "      <td>bronze</td>\n",
       "      <td>c</td>\n",
       "      <td>4.0</td>\n",
       "    </tr>\n",
       "  </tbody>\n",
       "</table>\n",
       "</div>"
      ],
      "text/plain": [
       "    award grade   id\n",
       "1    gold     b  2.0\n",
       "3  bronze     c  4.0"
      ]
     },
     "metadata": {},
     "output_type": "display_data"
    }
   ],
   "source": [
    "# Dropping rows or columns with missing values\n",
    "\n",
    "display(df.dropna(how=\"any\"))"
   ]
  },
  {
   "cell_type": "code",
   "execution_count": 7,
   "metadata": {},
   "outputs": [
    {
     "data": {
      "text/html": [
       "<div>\n",
       "<style scoped>\n",
       "    .dataframe tbody tr th:only-of-type {\n",
       "        vertical-align: middle;\n",
       "    }\n",
       "\n",
       "    .dataframe tbody tr th {\n",
       "        vertical-align: top;\n",
       "    }\n",
       "\n",
       "    .dataframe thead th {\n",
       "        text-align: right;\n",
       "    }\n",
       "</style>\n",
       "<table border=\"1\" class=\"dataframe\">\n",
       "  <thead>\n",
       "    <tr style=\"text-align: right;\">\n",
       "      <th></th>\n",
       "      <th>award</th>\n",
       "      <th>grade</th>\n",
       "      <th>id</th>\n",
       "    </tr>\n",
       "  </thead>\n",
       "  <tbody>\n",
       "    <tr>\n",
       "      <th>1</th>\n",
       "      <td>gold</td>\n",
       "      <td>b</td>\n",
       "      <td>2.0</td>\n",
       "    </tr>\n",
       "    <tr>\n",
       "      <th>2</th>\n",
       "      <td>silver</td>\n",
       "      <td>NaN</td>\n",
       "      <td>3.0</td>\n",
       "    </tr>\n",
       "    <tr>\n",
       "      <th>3</th>\n",
       "      <td>bronze</td>\n",
       "      <td>c</td>\n",
       "      <td>4.0</td>\n",
       "    </tr>\n",
       "  </tbody>\n",
       "</table>\n",
       "</div>"
      ],
      "text/plain": [
       "    award grade   id\n",
       "1    gold     b  2.0\n",
       "2  silver   NaN  3.0\n",
       "3  bronze     c  4.0"
      ]
     },
     "metadata": {},
     "output_type": "display_data"
    }
   ],
   "source": [
    "display(df.dropna(how=\"all\",subset=[\"grade\",\"award\"]))"
   ]
  },
  {
   "cell_type": "code",
   "execution_count": 8,
   "metadata": {},
   "outputs": [
    {
     "data": {
      "text/html": [
       "<div>\n",
       "<style scoped>\n",
       "    .dataframe tbody tr th:only-of-type {\n",
       "        vertical-align: middle;\n",
       "    }\n",
       "\n",
       "    .dataframe tbody tr th {\n",
       "        vertical-align: top;\n",
       "    }\n",
       "\n",
       "    .dataframe thead th {\n",
       "        text-align: right;\n",
       "    }\n",
       "</style>\n",
       "<table border=\"1\" class=\"dataframe\">\n",
       "  <thead>\n",
       "    <tr style=\"text-align: right;\">\n",
       "      <th></th>\n",
       "      <th>award</th>\n",
       "      <th>grade</th>\n",
       "      <th>id</th>\n",
       "    </tr>\n",
       "  </thead>\n",
       "  <tbody>\n",
       "    <tr>\n",
       "      <th>0</th>\n",
       "      <td>iron</td>\n",
       "      <td>e</td>\n",
       "      <td>NaN</td>\n",
       "    </tr>\n",
       "    <tr>\n",
       "      <th>1</th>\n",
       "      <td>gold</td>\n",
       "      <td>b</td>\n",
       "      <td>2.0</td>\n",
       "    </tr>\n",
       "    <tr>\n",
       "      <th>2</th>\n",
       "      <td>silver</td>\n",
       "      <td>e</td>\n",
       "      <td>3.0</td>\n",
       "    </tr>\n",
       "    <tr>\n",
       "      <th>3</th>\n",
       "      <td>bronze</td>\n",
       "      <td>c</td>\n",
       "      <td>4.0</td>\n",
       "    </tr>\n",
       "    <tr>\n",
       "      <th>4</th>\n",
       "      <td>iron</td>\n",
       "      <td>e</td>\n",
       "      <td>5.0</td>\n",
       "    </tr>\n",
       "  </tbody>\n",
       "</table>\n",
       "</div>"
      ],
      "text/plain": [
       "    award grade   id\n",
       "0    iron     e  NaN\n",
       "1    gold     b  2.0\n",
       "2  silver     e  3.0\n",
       "3  bronze     c  4.0\n",
       "4    iron     e  5.0"
      ]
     },
     "metadata": {},
     "output_type": "display_data"
    }
   ],
   "source": [
    "# Imputing missing values\n",
    "values = {\"grade\": \"e\", \"award\": \"iron\"}\n",
    "display(df.fillna(value=values))"
   ]
  },
  {
   "cell_type": "code",
   "execution_count": null,
   "metadata": {
    "collapsed": true
   },
   "outputs": [],
   "source": [
    "df[\"id\"].fillna(df[\"id\"].mean(),inplace=True)\n",
    "display(df)"
   ]
  },
  {
   "cell_type": "code",
   "execution_count": null,
   "metadata": {
    "collapsed": true
   },
   "outputs": [],
   "source": [
    "df[\"award\"].fillna(df[\n",
    "    \"award\"].mode()[0],inplace=True)\n",
    "display(df)"
   ]
  },
  {
   "cell_type": "code",
   "execution_count": 6,
   "metadata": {},
   "outputs": [
    {
     "data": {
      "text/plain": [
       "0       (0.897, 0.997]\n",
       "1         (0.401, 0.5]\n",
       "2       (0.599, 0.699]\n",
       "3       (0.699, 0.798]\n",
       "4         (0.5, 0.599]\n",
       "5       (0.599, 0.699]\n",
       "6         (0.5, 0.599]\n",
       "7       (0.202, 0.302]\n",
       "8       (0.103, 0.202]\n",
       "9       (0.599, 0.699]\n",
       "10      (0.202, 0.302]\n",
       "11        (0.5, 0.599]\n",
       "12      (0.202, 0.302]\n",
       "13      (0.202, 0.302]\n",
       "14      (0.699, 0.798]\n",
       "15      (0.103, 0.202]\n",
       "16      (0.103, 0.202]\n",
       "17      (0.897, 0.997]\n",
       "18      (0.599, 0.699]\n",
       "19    (0.00259, 0.103]\n",
       "20      (0.699, 0.798]\n",
       "21      (0.302, 0.401]\n",
       "22        (0.5, 0.599]\n",
       "23      (0.699, 0.798]\n",
       "24      (0.897, 0.997]\n",
       "25      (0.202, 0.302]\n",
       "26      (0.897, 0.997]\n",
       "27      (0.897, 0.997]\n",
       "28      (0.798, 0.897]\n",
       "29      (0.302, 0.401]\n",
       "            ...       \n",
       "70        (0.401, 0.5]\n",
       "71        (0.5, 0.599]\n",
       "72        (0.5, 0.599]\n",
       "73      (0.103, 0.202]\n",
       "74      (0.699, 0.798]\n",
       "75    (0.00259, 0.103]\n",
       "76      (0.202, 0.302]\n",
       "77      (0.202, 0.302]\n",
       "78      (0.897, 0.997]\n",
       "79      (0.699, 0.798]\n",
       "80        (0.5, 0.599]\n",
       "81      (0.103, 0.202]\n",
       "82      (0.699, 0.798]\n",
       "83      (0.302, 0.401]\n",
       "84        (0.5, 0.599]\n",
       "85    (0.00259, 0.103]\n",
       "86      (0.897, 0.997]\n",
       "87      (0.599, 0.699]\n",
       "88      (0.699, 0.798]\n",
       "89        (0.401, 0.5]\n",
       "90      (0.103, 0.202]\n",
       "91      (0.897, 0.997]\n",
       "92      (0.599, 0.699]\n",
       "93      (0.897, 0.997]\n",
       "94      (0.202, 0.302]\n",
       "95      (0.699, 0.798]\n",
       "96        (0.401, 0.5]\n",
       "97      (0.897, 0.997]\n",
       "98      (0.599, 0.699]\n",
       "99      (0.699, 0.798]\n",
       "Name: values, Length: 100, dtype: category\n",
       "Categories (10, interval[float64]): [(0.00259, 0.103] < (0.103, 0.202] < (0.202, 0.302] < (0.302, 0.401] ... (0.599, 0.699] < (0.699, 0.798] < (0.798, 0.897] < (0.897, 0.997]]"
      ]
     },
     "metadata": {},
     "output_type": "display_data"
    }
   ],
   "source": [
    "# Binning in DataFrames\n",
    "\n",
    "# Equal-width binning (using cut)\n",
    "\n",
    "df = pd.DataFrame({\"values\": np.random.rand(100)})\n",
    "res, bins = pd.cut(df[\"values\"],10,retbins=True)\n",
    "display(res)"
   ]
  },
  {
   "cell_type": "code",
   "execution_count": null,
   "metadata": {
    "collapsed": true
   },
   "outputs": [],
   "source": [
    "display(res)"
   ]
  },
  {
   "cell_type": "code",
   "execution_count": 4,
   "metadata": {},
   "outputs": [
    {
     "data": {
      "text/plain": [
       "0      (0.11, 0.208]\n",
       "1       (0.701, 0.8]\n",
       "2     (0.504, 0.603]\n",
       "3       (0.8, 0.899]\n",
       "4     (0.504, 0.603]\n",
       "5       (0.8, 0.899]\n",
       "6     (0.406, 0.504]\n",
       "7       (0.8, 0.899]\n",
       "8     (0.0103, 0.11]\n",
       "9     (0.899, 0.997]\n",
       "10    (0.899, 0.997]\n",
       "11    (0.307, 0.406]\n",
       "12    (0.307, 0.406]\n",
       "13    (0.504, 0.603]\n",
       "14      (0.701, 0.8]\n",
       "15    (0.0103, 0.11]\n",
       "16      (0.701, 0.8]\n",
       "17    (0.406, 0.504]\n",
       "18    (0.307, 0.406]\n",
       "19      (0.8, 0.899]\n",
       "20     (0.11, 0.208]\n",
       "21    (0.208, 0.307]\n",
       "22    (0.406, 0.504]\n",
       "23    (0.406, 0.504]\n",
       "24      (0.701, 0.8]\n",
       "25    (0.406, 0.504]\n",
       "26    (0.307, 0.406]\n",
       "27     (0.11, 0.208]\n",
       "28    (0.208, 0.307]\n",
       "29    (0.307, 0.406]\n",
       "           ...      \n",
       "70     (0.11, 0.208]\n",
       "71      (0.8, 0.899]\n",
       "72    (0.603, 0.701]\n",
       "73    (0.504, 0.603]\n",
       "74    (0.406, 0.504]\n",
       "75    (0.406, 0.504]\n",
       "76    (0.307, 0.406]\n",
       "77      (0.8, 0.899]\n",
       "78    (0.307, 0.406]\n",
       "79    (0.406, 0.504]\n",
       "80    (0.307, 0.406]\n",
       "81     (0.11, 0.208]\n",
       "82    (0.504, 0.603]\n",
       "83      (0.8, 0.899]\n",
       "84     (0.11, 0.208]\n",
       "85      (0.701, 0.8]\n",
       "86    (0.406, 0.504]\n",
       "87    (0.899, 0.997]\n",
       "88      (0.701, 0.8]\n",
       "89    (0.0103, 0.11]\n",
       "90    (0.899, 0.997]\n",
       "91    (0.899, 0.997]\n",
       "92    (0.504, 0.603]\n",
       "93    (0.208, 0.307]\n",
       "94    (0.603, 0.701]\n",
       "95    (0.406, 0.504]\n",
       "96    (0.208, 0.307]\n",
       "97      (0.701, 0.8]\n",
       "98      (0.8, 0.899]\n",
       "99    (0.603, 0.701]\n",
       "Name: values, Length: 100, dtype: category\n",
       "Categories (10, interval[float64]): [(0.0103, 0.11] < (0.11, 0.208] < (0.208, 0.307] < (0.307, 0.406] ... (0.603, 0.701] < (0.701, 0.8] < (0.8, 0.899] < (0.899, 0.997]]"
      ]
     },
     "metadata": {},
     "output_type": "display_data"
    }
   ],
   "source": [
    "df2 = pd.DataFrame({\"values\": np.random.rand(100)})\n",
    "new_res = pd.cut(df2[\"values\"],bins) # equal width\n",
    "display(new_res)"
   ]
  },
  {
   "cell_type": "code",
   "execution_count": 5,
   "metadata": {},
   "outputs": [
    {
     "data": {
      "text/plain": [
       "array([0.01131218, 0.1534712 , 0.30666655, 0.36972967, 0.46283631,\n",
       "       0.53645228, 0.59967209, 0.67653062, 0.81122736, 0.89036246,\n",
       "       0.9971294 ])"
      ]
     },
     "metadata": {},
     "output_type": "display_data"
    }
   ],
   "source": [
    "res, bins = pd.qcut(df[\"values\"],10,retbins=True,labels=list(\"abcdefghij\"))\n",
    "display(bins)"
   ]
  },
  {
   "cell_type": "code",
   "execution_count": null,
   "metadata": {
    "collapsed": true
   },
   "outputs": [],
   "source": [
    "display(res)"
   ]
  },
  {
   "cell_type": "code",
   "execution_count": null,
   "metadata": {
    "collapsed": true
   },
   "outputs": [],
   "source": [
    "# min-max normalization\n",
    "df = pd.DataFrame({\"values\": np.random.randn(100)})\n",
    "df.head()"
   ]
  },
  {
   "cell_type": "code",
   "execution_count": null,
   "metadata": {
    "collapsed": true
   },
   "outputs": [],
   "source": [
    "min = df[\"values\"].min()\n",
    "display(min)"
   ]
  },
  {
   "cell_type": "code",
   "execution_count": null,
   "metadata": {
    "collapsed": true
   },
   "outputs": [],
   "source": [
    "max = df[\"values\"].max()\n",
    "display(max)"
   ]
  },
  {
   "cell_type": "code",
   "execution_count": null,
   "metadata": {
    "collapsed": true
   },
   "outputs": [],
   "source": [
    "df[\"values\"] = [(x-min)/(max-min) for x in df[\"values\"]]\n",
    "df.head()"
   ]
  },
  {
   "cell_type": "code",
   "execution_count": null,
   "metadata": {
    "collapsed": true
   },
   "outputs": [],
   "source": [
    "# z-normalization;\n",
    "df = pd.DataFrame({\"values\": np.random.randn(100)})\n",
    "df.head()"
   ]
  },
  {
   "cell_type": "code",
   "execution_count": null,
   "metadata": {
    "collapsed": true
   },
   "outputs": [],
   "source": [
    "mean = df[\"values\"].mean()\n",
    "display(mean)"
   ]
  },
  {
   "cell_type": "code",
   "execution_count": null,
   "metadata": {
    "collapsed": true
   },
   "outputs": [],
   "source": [
    "std = df[\"values\"].std()\n",
    "display(std)"
   ]
  },
  {
   "cell_type": "code",
   "execution_count": null,
   "metadata": {
    "collapsed": true
   },
   "outputs": [],
   "source": [
    "df[\"values\"] = df[\"values\"].apply(lambda x: (x-mean)/std)\n",
    "df.head()"
   ]
  },
  {
   "cell_type": "code",
   "execution_count": null,
   "metadata": {
    "collapsed": true
   },
   "outputs": [],
   "source": [
    "# Selection of top-ranked categorical features"
   ]
  },
  {
   "cell_type": "code",
   "execution_count": 7,
   "metadata": {},
   "outputs": [
    {
     "data": {
      "text/html": [
       "<div>\n",
       "<style scoped>\n",
       "    .dataframe tbody tr th:only-of-type {\n",
       "        vertical-align: middle;\n",
       "    }\n",
       "\n",
       "    .dataframe tbody tr th {\n",
       "        vertical-align: top;\n",
       "    }\n",
       "\n",
       "    .dataframe thead th {\n",
       "        text-align: right;\n",
       "    }\n",
       "</style>\n",
       "<table border=\"1\" class=\"dataframe\">\n",
       "  <thead>\n",
       "    <tr style=\"text-align: right;\">\n",
       "      <th></th>\n",
       "      <th>award</th>\n",
       "      <th>class</th>\n",
       "      <th>grade</th>\n",
       "      <th>id</th>\n",
       "    </tr>\n",
       "  </thead>\n",
       "  <tbody>\n",
       "    <tr>\n",
       "      <th>0</th>\n",
       "      <td>gold</td>\n",
       "      <td>1</td>\n",
       "      <td>b</td>\n",
       "      <td>1</td>\n",
       "    </tr>\n",
       "    <tr>\n",
       "      <th>1</th>\n",
       "      <td>gold</td>\n",
       "      <td>1</td>\n",
       "      <td>b</td>\n",
       "      <td>2</td>\n",
       "    </tr>\n",
       "    <tr>\n",
       "      <th>2</th>\n",
       "      <td>silver</td>\n",
       "      <td>1</td>\n",
       "      <td>a</td>\n",
       "      <td>3</td>\n",
       "    </tr>\n",
       "    <tr>\n",
       "      <th>3</th>\n",
       "      <td>bronze</td>\n",
       "      <td>0</td>\n",
       "      <td>c</td>\n",
       "      <td>4</td>\n",
       "    </tr>\n",
       "    <tr>\n",
       "      <th>4</th>\n",
       "      <td>bronze</td>\n",
       "      <td>0</td>\n",
       "      <td>a</td>\n",
       "      <td>5</td>\n",
       "    </tr>\n",
       "  </tbody>\n",
       "</table>\n",
       "</div>"
      ],
      "text/plain": [
       "    award  class grade  id\n",
       "0    gold      1     b   1\n",
       "1    gold      1     b   2\n",
       "2  silver      1     a   3\n",
       "3  bronze      0     c   4\n",
       "4  bronze      0     a   5"
      ]
     },
     "metadata": {},
     "output_type": "display_data"
    }
   ],
   "source": [
    "df = pd.DataFrame({\"id\":[1,2,3,4,5],\"grade\":[\"b\",\"b\",\"a\",\"c\",\"a\"],\n",
    "                   \"award\":[\"gold\", \"gold\", \"silver\",\"bronze\", \"bronze\"],\n",
    "                   \"class\": [1,1,1,0,0]})\n",
    "display(df)"
   ]
  },
  {
   "cell_type": "code",
   "execution_count": 8,
   "metadata": {},
   "outputs": [
    {
     "data": {
      "text/plain": [
       "[('award',\n",
       "  [array([2, 0], dtype=int64),\n",
       "   array([0, 2], dtype=int64),\n",
       "   array([0, 1], dtype=int64)]),\n",
       " ('grade',\n",
       "  [array([1, 1], dtype=int64),\n",
       "   array([0, 2], dtype=int64),\n",
       "   array([1, 0], dtype=int64)]),\n",
       " ('id',\n",
       "  [array([0, 1], dtype=int64),\n",
       "   array([0, 1], dtype=int64),\n",
       "   array([0, 1], dtype=int64),\n",
       "   array([1, 0], dtype=int64),\n",
       "   array([1, 0], dtype=int64)])]"
      ]
     },
     "metadata": {},
     "output_type": "display_data"
    }
   ],
   "source": [
    "for col in df.columns:\n",
    "    df[col] = df[col].astype(\"category\")\n",
    "res = [(col,[g.groupby(\"class\").size().values for (n,g) in df.groupby(col)]) for col in df.columns.drop(\"class\")]\n",
    "display(res)"
   ]
  },
  {
   "cell_type": "code",
   "execution_count": 9,
   "metadata": {
    "collapsed": true
   },
   "outputs": [],
   "source": [
    "def score(values): # simple scoring function\n",
    "    return np.max([np.max(v)-np.min(v) for v in values])"
   ]
  },
  {
   "cell_type": "code",
   "execution_count": 10,
   "metadata": {},
   "outputs": [
    {
     "data": {
      "text/plain": [
       "[('award', 2), ('grade', 2), ('id', 1)]"
      ]
     },
     "metadata": {},
     "output_type": "display_data"
    }
   ],
   "source": [
    "scores = [(col,score(r)) for (col,r) in res]\n",
    "display(scores)"
   ]
  },
  {
   "cell_type": "code",
   "execution_count": 11,
   "metadata": {},
   "outputs": [
    {
     "data": {
      "text/plain": [
       "[('award', 2), ('grade', 2), ('id', 1)]"
      ]
     },
     "metadata": {},
     "output_type": "display_data"
    }
   ],
   "source": [
    "sorted_scores = sorted(scores,key=lambda tup: tup[1],reverse=True)\n",
    "display(sorted_scores)"
   ]
  },
  {
   "cell_type": "code",
   "execution_count": 12,
   "metadata": {},
   "outputs": [
    {
     "data": {
      "text/plain": [
       "['award', 'grade']"
      ]
     },
     "metadata": {},
     "output_type": "display_data"
    }
   ],
   "source": [
    "filtered = [col for (col,score) in sorted_scores[:2]]\n",
    "display(filtered)"
   ]
  },
  {
   "cell_type": "code",
   "execution_count": 13,
   "metadata": {},
   "outputs": [
    {
     "data": {
      "text/html": [
       "<div>\n",
       "<style scoped>\n",
       "    .dataframe tbody tr th:only-of-type {\n",
       "        vertical-align: middle;\n",
       "    }\n",
       "\n",
       "    .dataframe tbody tr th {\n",
       "        vertical-align: top;\n",
       "    }\n",
       "\n",
       "    .dataframe thead th {\n",
       "        text-align: right;\n",
       "    }\n",
       "</style>\n",
       "<table border=\"1\" class=\"dataframe\">\n",
       "  <thead>\n",
       "    <tr style=\"text-align: right;\">\n",
       "      <th></th>\n",
       "      <th>award</th>\n",
       "      <th>grade</th>\n",
       "    </tr>\n",
       "  </thead>\n",
       "  <tbody>\n",
       "    <tr>\n",
       "      <th>0</th>\n",
       "      <td>gold</td>\n",
       "      <td>b</td>\n",
       "    </tr>\n",
       "    <tr>\n",
       "      <th>1</th>\n",
       "      <td>gold</td>\n",
       "      <td>b</td>\n",
       "    </tr>\n",
       "    <tr>\n",
       "      <th>2</th>\n",
       "      <td>silver</td>\n",
       "      <td>a</td>\n",
       "    </tr>\n",
       "    <tr>\n",
       "      <th>3</th>\n",
       "      <td>bronze</td>\n",
       "      <td>c</td>\n",
       "    </tr>\n",
       "    <tr>\n",
       "      <th>4</th>\n",
       "      <td>bronze</td>\n",
       "      <td>a</td>\n",
       "    </tr>\n",
       "  </tbody>\n",
       "</table>\n",
       "</div>"
      ],
      "text/plain": [
       "    award grade\n",
       "0    gold     b\n",
       "1    gold     b\n",
       "2  silver     a\n",
       "3  bronze     c\n",
       "4  bronze     a"
      ]
     },
     "metadata": {},
     "output_type": "display_data"
    }
   ],
   "source": [
    "new_df = df.loc[:,filtered]\n",
    "display(new_df)"
   ]
  },
  {
   "cell_type": "code",
   "execution_count": null,
   "metadata": {
    "collapsed": true
   },
   "outputs": [],
   "source": []
  }
 ],
 "metadata": {
  "kernelspec": {
   "display_name": "Python 3",
   "language": "python",
   "name": "python3"
  },
  "language_info": {
   "codemirror_mode": {
    "name": "ipython",
    "version": 3
   },
   "file_extension": ".py",
   "mimetype": "text/x-python",
   "name": "python",
   "nbconvert_exporter": "python",
   "pygments_lexer": "ipython3",
   "version": "3.8.5"
  }
 },
 "nbformat": 4,
 "nbformat_minor": 4
}
